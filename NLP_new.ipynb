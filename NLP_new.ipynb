{
  "cells": [
    {
      "metadata": {
        "collapsed": true
      },
      "cell_type": "markdown",
      "source": "# Exploring NLP with random forest algorithm \n"
    },
    {
      "metadata": {
        "trusted": true
      },
      "cell_type": "markdown",
      "source": "$\\text{Helping Computers analyze text easily i.e detect spam emails, autocorrect}$"
    },
    {
      "metadata": {},
      "cell_type": "markdown",
      "source": "$\\text{NLP is a field in machine learning with the ability of a computer to understand, analyze, manipulate, and potentially generate human language}$"
    },
    {
      "metadata": {},
      "cell_type": "markdown",
      "source": "$\\text{Examples of NLP in real life}$"
    },
    {
      "metadata": {},
      "cell_type": "markdown",
      "source": "\n- information retrival \n- Information extraction (Gmails structures events from emails)\n- Machine translation (e.g language )\n- Text simplification \n- Sentiment analysis \n- Spam filter \n- Auto-predict\n- Auto correct \n- Speech recognition \n- Question answering \n- NL generaton \n"
    },
    {
      "metadata": {
        "trusted": true
      },
      "cell_type": "code",
      "source": "#Installing natural language processing tool kit \n!pip install nltk",
      "execution_count": 4,
      "outputs": [
        {
          "output_type": "stream",
          "text": "Requirement already satisfied: nltk in /home/nbuser/anaconda3_501/lib/python3.6/site-packages (3.3)\r\nRequirement already satisfied: six in /home/nbuser/anaconda3_501/lib/python3.6/site-packages (from nltk) (1.11.0)\r\n",
          "name": "stdout"
        }
      ]
    },
    {
      "metadata": {
        "trusted": true
      },
      "cell_type": "code",
      "source": "import nltk\n#nltk.download()",
      "execution_count": 28,
      "outputs": []
    },
    {
      "metadata": {},
      "cell_type": "markdown",
      "source": "# Reading and exploring our dataset "
    },
    {
      "metadata": {
        "trusted": true
      },
      "cell_type": "code",
      "source": "import pandas as pd \n",
      "execution_count": 27,
      "outputs": []
    },
    {
      "metadata": {
        "trusted": true
      },
      "cell_type": "code",
      "source": "!wget https://raw.githubusercontent.com/mohitgupta-omg/Kaggle-SMS-Spam-Collection-Dataset-/master/spam.csv\n#!wget https://github.com/mohitgupta-omg/Kaggle-SMS-Spam-Collection-Dataset-/blob/master/spam.csv ",
      "execution_count": 42,
      "outputs": [
        {
          "output_type": "stream",
          "text": "--2019-03-15 09:38:20--  https://raw.githubusercontent.com/mohitgupta-omg/Kaggle-SMS-Spam-Collection-Dataset-/master/spam.csv\nResolving webproxy (webproxy)... 10.36.24.1\nConnecting to webproxy (webproxy)|10.36.24.1|:3128... connected.\nProxy request sent, awaiting response... 200 OK\nLength: 503663 (492K) [text/plain]\nSaving to: ‘spam.csv’\n\nspam.csv            100%[===================>] 491.86K  2.41MB/s    in 0.2s    \n\n2019-03-15 09:38:21 (2.41 MB/s) - ‘spam.csv’ saved [503663/503663]\n\n",
          "name": "stdout"
        }
      ]
    },
    {
      "metadata": {
        "trusted": true
      },
      "cell_type": "code",
      "source": "data = pd.read_csv('spam.csv',engine = 'python')",
      "execution_count": 77,
      "outputs": []
    },
    {
      "metadata": {
        "trusted": true
      },
      "cell_type": "code",
      "source": "header = ['Labels', 'text']\ndata= data.rename(columns = {\"v1\":\"Labels\", \"v2\": \"Text\"})",
      "execution_count": 85,
      "outputs": []
    },
    {
      "metadata": {
        "trusted": true
      },
      "cell_type": "code",
      "source": "data.head()",
      "execution_count": 86,
      "outputs": [
        {
          "output_type": "execute_result",
          "execution_count": 86,
          "data": {
            "text/html": "<div>\n<style scoped>\n    .dataframe tbody tr th:only-of-type {\n        vertical-align: middle;\n    }\n\n    .dataframe tbody tr th {\n        vertical-align: top;\n    }\n\n    .dataframe thead th {\n        text-align: right;\n    }\n</style>\n<table border=\"1\" class=\"dataframe\">\n  <thead>\n    <tr style=\"text-align: right;\">\n      <th></th>\n      <th>Labels</th>\n      <th>Text</th>\n    </tr>\n  </thead>\n  <tbody>\n    <tr>\n      <th>0</th>\n      <td>ham</td>\n      <td>Go until jurong point, crazy.. Available only ...</td>\n    </tr>\n    <tr>\n      <th>1</th>\n      <td>ham</td>\n      <td>Ok lar... Joking wif u oni...</td>\n    </tr>\n    <tr>\n      <th>2</th>\n      <td>spam</td>\n      <td>Free entry in 2 a wkly comp to win FA Cup fina...</td>\n    </tr>\n    <tr>\n      <th>3</th>\n      <td>ham</td>\n      <td>U dun say so early hor... U c already then say...</td>\n    </tr>\n    <tr>\n      <th>4</th>\n      <td>ham</td>\n      <td>Nah I don't think he goes to usf, he lives aro...</td>\n    </tr>\n  </tbody>\n</table>\n</div>",
            "text/plain": "  Labels                                               Text\n0    ham  Go until jurong point, crazy.. Available only ...\n1    ham                      Ok lar... Joking wif u oni...\n2   spam  Free entry in 2 a wkly comp to win FA Cup fina...\n3    ham  U dun say so early hor... U c already then say...\n4    ham  Nah I don't think he goes to usf, he lives aro..."
          },
          "metadata": {}
        }
      ]
    },
    {
      "metadata": {},
      "cell_type": "markdown",
      "source": "# Pre-processing our data "
    },
    {
      "metadata": {
        "trusted": true
      },
      "cell_type": "code",
      "source": "import string \nstring.punctuation",
      "execution_count": 88,
      "outputs": [
        {
          "output_type": "execute_result",
          "execution_count": 88,
          "data": {
            "text/plain": "'!\"#$%&\\'()*+,-./:;<=>?@[\\\\]^_`{|}~'"
          },
          "metadata": {}
        }
      ]
    },
    {
      "metadata": {
        "trusted": true
      },
      "cell_type": "code",
      "source": "#removing punctuations\ndef remove_punct(text):\n    text_nopunct = \"\".join ([char for char in text if char not in string.punctuation])\n    return text_nopunct\n\n",
      "execution_count": 117,
      "outputs": []
    },
    {
      "metadata": {
        "trusted": true
      },
      "cell_type": "code",
      "source": "data['Clean_text'] = data['Text'].apply(lambda x:remove_punct(x))",
      "execution_count": 114,
      "outputs": []
    },
    {
      "metadata": {
        "trusted": true
      },
      "cell_type": "code",
      "source": "data.head()",
      "execution_count": 120,
      "outputs": [
        {
          "output_type": "execute_result",
          "execution_count": 120,
          "data": {
            "text/html": "<div>\n<style scoped>\n    .dataframe tbody tr th:only-of-type {\n        vertical-align: middle;\n    }\n\n    .dataframe tbody tr th {\n        vertical-align: top;\n    }\n\n    .dataframe thead th {\n        text-align: right;\n    }\n</style>\n<table border=\"1\" class=\"dataframe\">\n  <thead>\n    <tr style=\"text-align: right;\">\n      <th></th>\n      <th>Labels</th>\n      <th>Text</th>\n      <th>Clean_text</th>\n    </tr>\n  </thead>\n  <tbody>\n    <tr>\n      <th>0</th>\n      <td>ham</td>\n      <td>Go until jurong point, crazy.. Available only ...</td>\n      <td>Go until jurong point crazy Available only in ...</td>\n    </tr>\n    <tr>\n      <th>1</th>\n      <td>ham</td>\n      <td>Ok lar... Joking wif u oni...</td>\n      <td>Ok lar Joking wif u oni</td>\n    </tr>\n    <tr>\n      <th>2</th>\n      <td>spam</td>\n      <td>Free entry in 2 a wkly comp to win FA Cup fina...</td>\n      <td>Free entry in 2 a wkly comp to win FA Cup fina...</td>\n    </tr>\n    <tr>\n      <th>3</th>\n      <td>ham</td>\n      <td>U dun say so early hor... U c already then say...</td>\n      <td>U dun say so early hor U c already then say</td>\n    </tr>\n    <tr>\n      <th>4</th>\n      <td>ham</td>\n      <td>Nah I don't think he goes to usf, he lives aro...</td>\n      <td>Nah I dont think he goes to usf he lives aroun...</td>\n    </tr>\n  </tbody>\n</table>\n</div>",
            "text/plain": "  Labels                                               Text  \\\n0    ham  Go until jurong point, crazy.. Available only ...   \n1    ham                      Ok lar... Joking wif u oni...   \n2   spam  Free entry in 2 a wkly comp to win FA Cup fina...   \n3    ham  U dun say so early hor... U c already then say...   \n4    ham  Nah I don't think he goes to usf, he lives aro...   \n\n                                          Clean_text  \n0  Go until jurong point crazy Available only in ...  \n1                            Ok lar Joking wif u oni  \n2  Free entry in 2 a wkly comp to win FA Cup fina...  \n3        U dun say so early hor U c already then say  \n4  Nah I dont think he goes to usf he lives aroun...  "
          },
          "metadata": {}
        }
      ]
    },
    {
      "metadata": {
        "trusted": true
      },
      "cell_type": "code",
      "source": "#tockenizing the data \nimport re\ndef tokenize(text):\n    tockens = re.split('\\W+',text)\n    return tockens\n\ndata['tocknized']=data['Clean_text'].apply(lambda x: tokenize(x.lower()))\n",
      "execution_count": 122,
      "outputs": []
    },
    {
      "metadata": {
        "trusted": true
      },
      "cell_type": "code",
      "source": "# remove stopwords\nimport nltk\nnltk.download('stopwords')",
      "execution_count": 130,
      "outputs": [
        {
          "output_type": "stream",
          "text": "[nltk_data] Downloading package stopwords to /home/nbuser/nltk_data...\n[nltk_data]   Unzipping corpora/stopwords.zip.\n",
          "name": "stdout"
        },
        {
          "output_type": "execute_result",
          "execution_count": 130,
          "data": {
            "text/plain": "True"
          },
          "metadata": {}
        }
      ]
    },
    {
      "metadata": {
        "trusted": true
      },
      "cell_type": "code",
      "source": "stopword = nltk.corpus.stopwords.words('english')",
      "execution_count": 131,
      "outputs": []
    },
    {
      "metadata": {
        "trusted": true
      },
      "cell_type": "code",
      "source": "def rm_stopwords(tokenized_list):\n    text = [word for word in tokenized_list if word not in stopword]\n    return text\ndata['text_nonstop'] = data['tocknized'].apply(lambda x: rm_stopwords(x))",
      "execution_count": 132,
      "outputs": []
    },
    {
      "metadata": {
        "trusted": true
      },
      "cell_type": "code",
      "source": "data.head()",
      "execution_count": 133,
      "outputs": [
        {
          "output_type": "execute_result",
          "execution_count": 133,
          "data": {
            "text/html": "<div>\n<style scoped>\n    .dataframe tbody tr th:only-of-type {\n        vertical-align: middle;\n    }\n\n    .dataframe tbody tr th {\n        vertical-align: top;\n    }\n\n    .dataframe thead th {\n        text-align: right;\n    }\n</style>\n<table border=\"1\" class=\"dataframe\">\n  <thead>\n    <tr style=\"text-align: right;\">\n      <th></th>\n      <th>Labels</th>\n      <th>Text</th>\n      <th>Clean_text</th>\n      <th>tocknized</th>\n      <th>text_nonstop</th>\n    </tr>\n  </thead>\n  <tbody>\n    <tr>\n      <th>0</th>\n      <td>ham</td>\n      <td>Go until jurong point, crazy.. Available only ...</td>\n      <td>Go until jurong point crazy Available only in ...</td>\n      <td>[go, until, jurong, point, crazy, available, o...</td>\n      <td>[go, jurong, point, crazy, available, bugis, n...</td>\n    </tr>\n    <tr>\n      <th>1</th>\n      <td>ham</td>\n      <td>Ok lar... Joking wif u oni...</td>\n      <td>Ok lar Joking wif u oni</td>\n      <td>[ok, lar, joking, wif, u, oni]</td>\n      <td>[ok, lar, joking, wif, u, oni]</td>\n    </tr>\n    <tr>\n      <th>2</th>\n      <td>spam</td>\n      <td>Free entry in 2 a wkly comp to win FA Cup fina...</td>\n      <td>Free entry in 2 a wkly comp to win FA Cup fina...</td>\n      <td>[free, entry, in, 2, a, wkly, comp, to, win, f...</td>\n      <td>[free, entry, 2, wkly, comp, win, fa, cup, fin...</td>\n    </tr>\n    <tr>\n      <th>3</th>\n      <td>ham</td>\n      <td>U dun say so early hor... U c already then say...</td>\n      <td>U dun say so early hor U c already then say</td>\n      <td>[u, dun, say, so, early, hor, u, c, already, t...</td>\n      <td>[u, dun, say, early, hor, u, c, already, say]</td>\n    </tr>\n    <tr>\n      <th>4</th>\n      <td>ham</td>\n      <td>Nah I don't think he goes to usf, he lives aro...</td>\n      <td>Nah I dont think he goes to usf he lives aroun...</td>\n      <td>[nah, i, dont, think, he, goes, to, usf, he, l...</td>\n      <td>[nah, dont, think, goes, usf, lives, around, t...</td>\n    </tr>\n  </tbody>\n</table>\n</div>",
            "text/plain": "  Labels                                               Text  \\\n0    ham  Go until jurong point, crazy.. Available only ...   \n1    ham                      Ok lar... Joking wif u oni...   \n2   spam  Free entry in 2 a wkly comp to win FA Cup fina...   \n3    ham  U dun say so early hor... U c already then say...   \n4    ham  Nah I don't think he goes to usf, he lives aro...   \n\n                                          Clean_text  \\\n0  Go until jurong point crazy Available only in ...   \n1                            Ok lar Joking wif u oni   \n2  Free entry in 2 a wkly comp to win FA Cup fina...   \n3        U dun say so early hor U c already then say   \n4  Nah I dont think he goes to usf he lives aroun...   \n\n                                           tocknized  \\\n0  [go, until, jurong, point, crazy, available, o...   \n1                     [ok, lar, joking, wif, u, oni]   \n2  [free, entry, in, 2, a, wkly, comp, to, win, f...   \n3  [u, dun, say, so, early, hor, u, c, already, t...   \n4  [nah, i, dont, think, he, goes, to, usf, he, l...   \n\n                                        text_nonstop  \n0  [go, jurong, point, crazy, available, bugis, n...  \n1                     [ok, lar, joking, wif, u, oni]  \n2  [free, entry, 2, wkly, comp, win, fa, cup, fin...  \n3      [u, dun, say, early, hor, u, c, already, say]  \n4  [nah, dont, think, goes, usf, lives, around, t...  "
          },
          "metadata": {}
        }
      ]
    },
    {
      "metadata": {
        "trusted": true
      },
      "cell_type": "code",
      "source": "#Stemming \nps = nltk.PorterStemmer()\n\n\ndef stemming(tockenized_text):\n    text = [ps.stem(word) for word in tockenized_text]\n    return text \ndata['text_stem'] = data['text_nonstop'].apply(lambda x: stemming(x))\ndata.head()",
      "execution_count": 137,
      "outputs": [
        {
          "output_type": "execute_result",
          "execution_count": 137,
          "data": {
            "text/html": "<div>\n<style scoped>\n    .dataframe tbody tr th:only-of-type {\n        vertical-align: middle;\n    }\n\n    .dataframe tbody tr th {\n        vertical-align: top;\n    }\n\n    .dataframe thead th {\n        text-align: right;\n    }\n</style>\n<table border=\"1\" class=\"dataframe\">\n  <thead>\n    <tr style=\"text-align: right;\">\n      <th></th>\n      <th>Labels</th>\n      <th>Text</th>\n      <th>Clean_text</th>\n      <th>tocknized</th>\n      <th>text_nonstop</th>\n      <th>text_stem</th>\n    </tr>\n  </thead>\n  <tbody>\n    <tr>\n      <th>0</th>\n      <td>ham</td>\n      <td>Go until jurong point, crazy.. Available only ...</td>\n      <td>Go until jurong point crazy Available only in ...</td>\n      <td>[go, until, jurong, point, crazy, available, o...</td>\n      <td>[go, jurong, point, crazy, available, bugis, n...</td>\n      <td>[go, jurong, point, crazi, avail, bugi, n, gre...</td>\n    </tr>\n    <tr>\n      <th>1</th>\n      <td>ham</td>\n      <td>Ok lar... Joking wif u oni...</td>\n      <td>Ok lar Joking wif u oni</td>\n      <td>[ok, lar, joking, wif, u, oni]</td>\n      <td>[ok, lar, joking, wif, u, oni]</td>\n      <td>[ok, lar, joke, wif, u, oni]</td>\n    </tr>\n    <tr>\n      <th>2</th>\n      <td>spam</td>\n      <td>Free entry in 2 a wkly comp to win FA Cup fina...</td>\n      <td>Free entry in 2 a wkly comp to win FA Cup fina...</td>\n      <td>[free, entry, in, 2, a, wkly, comp, to, win, f...</td>\n      <td>[free, entry, 2, wkly, comp, win, fa, cup, fin...</td>\n      <td>[free, entri, 2, wkli, comp, win, fa, cup, fin...</td>\n    </tr>\n    <tr>\n      <th>3</th>\n      <td>ham</td>\n      <td>U dun say so early hor... U c already then say...</td>\n      <td>U dun say so early hor U c already then say</td>\n      <td>[u, dun, say, so, early, hor, u, c, already, t...</td>\n      <td>[u, dun, say, early, hor, u, c, already, say]</td>\n      <td>[u, dun, say, earli, hor, u, c, alreadi, say]</td>\n    </tr>\n    <tr>\n      <th>4</th>\n      <td>ham</td>\n      <td>Nah I don't think he goes to usf, he lives aro...</td>\n      <td>Nah I dont think he goes to usf he lives aroun...</td>\n      <td>[nah, i, dont, think, he, goes, to, usf, he, l...</td>\n      <td>[nah, dont, think, goes, usf, lives, around, t...</td>\n      <td>[nah, dont, think, goe, usf, live, around, tho...</td>\n    </tr>\n  </tbody>\n</table>\n</div>",
            "text/plain": "  Labels                                               Text  \\\n0    ham  Go until jurong point, crazy.. Available only ...   \n1    ham                      Ok lar... Joking wif u oni...   \n2   spam  Free entry in 2 a wkly comp to win FA Cup fina...   \n3    ham  U dun say so early hor... U c already then say...   \n4    ham  Nah I don't think he goes to usf, he lives aro...   \n\n                                          Clean_text  \\\n0  Go until jurong point crazy Available only in ...   \n1                            Ok lar Joking wif u oni   \n2  Free entry in 2 a wkly comp to win FA Cup fina...   \n3        U dun say so early hor U c already then say   \n4  Nah I dont think he goes to usf he lives aroun...   \n\n                                           tocknized  \\\n0  [go, until, jurong, point, crazy, available, o...   \n1                     [ok, lar, joking, wif, u, oni]   \n2  [free, entry, in, 2, a, wkly, comp, to, win, f...   \n3  [u, dun, say, so, early, hor, u, c, already, t...   \n4  [nah, i, dont, think, he, goes, to, usf, he, l...   \n\n                                        text_nonstop  \\\n0  [go, jurong, point, crazy, available, bugis, n...   \n1                     [ok, lar, joking, wif, u, oni]   \n2  [free, entry, 2, wkly, comp, win, fa, cup, fin...   \n3      [u, dun, say, early, hor, u, c, already, say]   \n4  [nah, dont, think, goes, usf, lives, around, t...   \n\n                                           text_stem  \n0  [go, jurong, point, crazi, avail, bugi, n, gre...  \n1                       [ok, lar, joke, wif, u, oni]  \n2  [free, entri, 2, wkli, comp, win, fa, cup, fin...  \n3      [u, dun, say, earli, hor, u, c, alreadi, say]  \n4  [nah, dont, think, goe, usf, live, around, tho...  "
          },
          "metadata": {}
        }
      ]
    },
    {
      "metadata": {
        "trusted": true
      },
      "cell_type": "code",
      "source": "nltk.download('wordnet')\nwn = nltk.WordNetLemmatizer()\ndef lemm(tockenized_text):\n    text = [wn.lemmatize(word) for word in tockenized_text]\n    return text\n\ndata['text_lemm'] = data ['text_stem'].apply(lambda x: lemm(x))\ndata.head()",
      "execution_count": 141,
      "outputs": [
        {
          "output_type": "stream",
          "text": "[nltk_data] Downloading package wordnet to /home/nbuser/nltk_data...\n[nltk_data]   Unzipping corpora/wordnet.zip.\n",
          "name": "stdout"
        },
        {
          "output_type": "execute_result",
          "execution_count": 141,
          "data": {
            "text/html": "<div>\n<style scoped>\n    .dataframe tbody tr th:only-of-type {\n        vertical-align: middle;\n    }\n\n    .dataframe tbody tr th {\n        vertical-align: top;\n    }\n\n    .dataframe thead th {\n        text-align: right;\n    }\n</style>\n<table border=\"1\" class=\"dataframe\">\n  <thead>\n    <tr style=\"text-align: right;\">\n      <th></th>\n      <th>Labels</th>\n      <th>Text</th>\n      <th>Clean_text</th>\n      <th>tocknized</th>\n      <th>text_nonstop</th>\n      <th>text_stem</th>\n      <th>text_lemm</th>\n    </tr>\n  </thead>\n  <tbody>\n    <tr>\n      <th>0</th>\n      <td>ham</td>\n      <td>Go until jurong point, crazy.. Available only ...</td>\n      <td>Go until jurong point crazy Available only in ...</td>\n      <td>[go, until, jurong, point, crazy, available, o...</td>\n      <td>[go, jurong, point, crazy, available, bugis, n...</td>\n      <td>[go, jurong, point, crazi, avail, bugi, n, gre...</td>\n      <td>[go, jurong, point, crazi, avail, bugi, n, gre...</td>\n    </tr>\n    <tr>\n      <th>1</th>\n      <td>ham</td>\n      <td>Ok lar... Joking wif u oni...</td>\n      <td>Ok lar Joking wif u oni</td>\n      <td>[ok, lar, joking, wif, u, oni]</td>\n      <td>[ok, lar, joking, wif, u, oni]</td>\n      <td>[ok, lar, joke, wif, u, oni]</td>\n      <td>[ok, lar, joke, wif, u, oni]</td>\n    </tr>\n    <tr>\n      <th>2</th>\n      <td>spam</td>\n      <td>Free entry in 2 a wkly comp to win FA Cup fina...</td>\n      <td>Free entry in 2 a wkly comp to win FA Cup fina...</td>\n      <td>[free, entry, in, 2, a, wkly, comp, to, win, f...</td>\n      <td>[free, entry, 2, wkly, comp, win, fa, cup, fin...</td>\n      <td>[free, entri, 2, wkli, comp, win, fa, cup, fin...</td>\n      <td>[free, entri, 2, wkli, comp, win, fa, cup, fin...</td>\n    </tr>\n    <tr>\n      <th>3</th>\n      <td>ham</td>\n      <td>U dun say so early hor... U c already then say...</td>\n      <td>U dun say so early hor U c already then say</td>\n      <td>[u, dun, say, so, early, hor, u, c, already, t...</td>\n      <td>[u, dun, say, early, hor, u, c, already, say]</td>\n      <td>[u, dun, say, earli, hor, u, c, alreadi, say]</td>\n      <td>[u, dun, say, earli, hor, u, c, alreadi, say]</td>\n    </tr>\n    <tr>\n      <th>4</th>\n      <td>ham</td>\n      <td>Nah I don't think he goes to usf, he lives aro...</td>\n      <td>Nah I dont think he goes to usf he lives aroun...</td>\n      <td>[nah, i, dont, think, he, goes, to, usf, he, l...</td>\n      <td>[nah, dont, think, goes, usf, lives, around, t...</td>\n      <td>[nah, dont, think, goe, usf, live, around, tho...</td>\n      <td>[nah, dont, think, goe, usf, live, around, tho...</td>\n    </tr>\n  </tbody>\n</table>\n</div>",
            "text/plain": "  Labels                                               Text  \\\n0    ham  Go until jurong point, crazy.. Available only ...   \n1    ham                      Ok lar... Joking wif u oni...   \n2   spam  Free entry in 2 a wkly comp to win FA Cup fina...   \n3    ham  U dun say so early hor... U c already then say...   \n4    ham  Nah I don't think he goes to usf, he lives aro...   \n\n                                          Clean_text  \\\n0  Go until jurong point crazy Available only in ...   \n1                            Ok lar Joking wif u oni   \n2  Free entry in 2 a wkly comp to win FA Cup fina...   \n3        U dun say so early hor U c already then say   \n4  Nah I dont think he goes to usf he lives aroun...   \n\n                                           tocknized  \\\n0  [go, until, jurong, point, crazy, available, o...   \n1                     [ok, lar, joking, wif, u, oni]   \n2  [free, entry, in, 2, a, wkly, comp, to, win, f...   \n3  [u, dun, say, so, early, hor, u, c, already, t...   \n4  [nah, i, dont, think, he, goes, to, usf, he, l...   \n\n                                        text_nonstop  \\\n0  [go, jurong, point, crazy, available, bugis, n...   \n1                     [ok, lar, joking, wif, u, oni]   \n2  [free, entry, 2, wkly, comp, win, fa, cup, fin...   \n3      [u, dun, say, early, hor, u, c, already, say]   \n4  [nah, dont, think, goes, usf, lives, around, t...   \n\n                                           text_stem  \\\n0  [go, jurong, point, crazi, avail, bugi, n, gre...   \n1                       [ok, lar, joke, wif, u, oni]   \n2  [free, entri, 2, wkli, comp, win, fa, cup, fin...   \n3      [u, dun, say, earli, hor, u, c, alreadi, say]   \n4  [nah, dont, think, goe, usf, live, around, tho...   \n\n                                           text_lemm  \n0  [go, jurong, point, crazi, avail, bugi, n, gre...  \n1                       [ok, lar, joke, wif, u, oni]  \n2  [free, entri, 2, wkli, comp, win, fa, cup, fin...  \n3      [u, dun, say, earli, hor, u, c, alreadi, say]  \n4  [nah, dont, think, goe, usf, live, around, tho...  "
          },
          "metadata": {}
        }
      ]
    },
    {
      "metadata": {
        "trusted": true
      },
      "cell_type": "code",
      "source": "#Finally we are vectorizing \n\"\"\"Vectorizing is the process of encoding text as integers in order to create feauture vectors so that ML algorithm \"\"\"",
      "execution_count": 143,
      "outputs": [
        {
          "output_type": "execute_result",
          "execution_count": 143,
          "data": {
            "text/plain": "'Vectorizing is the process of encoding text as integers in order to create feauture vectors so that ML algorithm '"
          },
          "metadata": {}
        }
      ]
    },
    {
      "metadata": {
        "trusted": true
      },
      "cell_type": "code",
      "source": "from sklearn.feature_extraction.text import CountVectorizer\ncount_vect = CountVectorizer(ngram_range=(2,2))\nx_counts = count_vect.fit_transform (data ['Text'])\nprint (x_counts.shape)\nprint (count_vect.get_feature_names)",
      "execution_count": 156,
      "outputs": [
        {
          "output_type": "stream",
          "text": "(5572, 41481)\n<bound method CountVectorizer.get_feature_names of CountVectorizer(analyzer='word', binary=False, decode_error='strict',\n        dtype=<class 'numpy.int64'>, encoding='utf-8', input='content',\n        lowercase=True, max_df=1.0, max_features=None, min_df=1,\n        ngram_range=(2, 2), preprocessor=None, stop_words=None,\n        strip_accents=None, token_pattern='(?u)\\\\b\\\\w\\\\w+\\\\b',\n        tokenizer=None, vocabulary=None)>\n",
          "name": "stdout"
        }
      ]
    },
    {
      "metadata": {
        "trusted": true
      },
      "cell_type": "code",
      "source": "#reduce the number of commont words (this it, then, is)\nfrom sklearn.feature_extraction.text import TfidfVectorizer\ntfidf_vec = TfidfVectorizer()\nx_tfidf = tfidf_vec.fit_transform(data['Text'])\nx_tfidf.shape",
      "execution_count": 159,
      "outputs": [
        {
          "output_type": "execute_result",
          "execution_count": 159,
          "data": {
            "text/plain": "(5572, 8625)"
          },
          "metadata": {}
        }
      ]
    },
    {
      "metadata": {},
      "cell_type": "markdown",
      "source": "# Feature engeneering \n"
    },
    {
      "metadata": {
        "trusted": true
      },
      "cell_type": "code",
      "source": "\"\"\"Feature engineering is the process of using domain knowledge of\nthe data to create features that make machine learning algorithms work.\nIn our case we will first look at simple features between spam and ham, \nlike message length and punctuations\"\"\"",
      "execution_count": 161,
      "outputs": [
        {
          "output_type": "execute_result",
          "execution_count": 161,
          "data": {
            "text/plain": "'Feature engineering is the process of using domain knowledge of\\nthe data to create features that make machine learning algorithms work.\\nIn our case we will first look at simple features between spam and ham, \\nlike message length and punctuations'"
          },
          "metadata": {}
        }
      ]
    },
    {
      "metadata": {
        "trusted": true
      },
      "cell_type": "code",
      "source": "#calculate length of text \ndata['body_len'] = data['Text'].apply(lambda x: len(x)-x.count(\" \"))\ndata.head()",
      "execution_count": 167,
      "outputs": [
        {
          "output_type": "execute_result",
          "execution_count": 167,
          "data": {
            "text/html": "<div>\n<style scoped>\n    .dataframe tbody tr th:only-of-type {\n        vertical-align: middle;\n    }\n\n    .dataframe tbody tr th {\n        vertical-align: top;\n    }\n\n    .dataframe thead th {\n        text-align: right;\n    }\n</style>\n<table border=\"1\" class=\"dataframe\">\n  <thead>\n    <tr style=\"text-align: right;\">\n      <th></th>\n      <th>Labels</th>\n      <th>Text</th>\n      <th>Clean_text</th>\n      <th>tocknized</th>\n      <th>text_nonstop</th>\n      <th>text_stem</th>\n      <th>text_lemm</th>\n      <th>body_len</th>\n    </tr>\n  </thead>\n  <tbody>\n    <tr>\n      <th>0</th>\n      <td>ham</td>\n      <td>Go until jurong point, crazy.. Available only ...</td>\n      <td>Go until jurong point crazy Available only in ...</td>\n      <td>[go, until, jurong, point, crazy, available, o...</td>\n      <td>[go, jurong, point, crazy, available, bugis, n...</td>\n      <td>[go, jurong, point, crazi, avail, bugi, n, gre...</td>\n      <td>[go, jurong, point, crazi, avail, bugi, n, gre...</td>\n      <td>92</td>\n    </tr>\n    <tr>\n      <th>1</th>\n      <td>ham</td>\n      <td>Ok lar... Joking wif u oni...</td>\n      <td>Ok lar Joking wif u oni</td>\n      <td>[ok, lar, joking, wif, u, oni]</td>\n      <td>[ok, lar, joking, wif, u, oni]</td>\n      <td>[ok, lar, joke, wif, u, oni]</td>\n      <td>[ok, lar, joke, wif, u, oni]</td>\n      <td>24</td>\n    </tr>\n    <tr>\n      <th>2</th>\n      <td>spam</td>\n      <td>Free entry in 2 a wkly comp to win FA Cup fina...</td>\n      <td>Free entry in 2 a wkly comp to win FA Cup fina...</td>\n      <td>[free, entry, in, 2, a, wkly, comp, to, win, f...</td>\n      <td>[free, entry, 2, wkly, comp, win, fa, cup, fin...</td>\n      <td>[free, entri, 2, wkli, comp, win, fa, cup, fin...</td>\n      <td>[free, entri, 2, wkli, comp, win, fa, cup, fin...</td>\n      <td>128</td>\n    </tr>\n    <tr>\n      <th>3</th>\n      <td>ham</td>\n      <td>U dun say so early hor... U c already then say...</td>\n      <td>U dun say so early hor U c already then say</td>\n      <td>[u, dun, say, so, early, hor, u, c, already, t...</td>\n      <td>[u, dun, say, early, hor, u, c, already, say]</td>\n      <td>[u, dun, say, earli, hor, u, c, alreadi, say]</td>\n      <td>[u, dun, say, earli, hor, u, c, alreadi, say]</td>\n      <td>39</td>\n    </tr>\n    <tr>\n      <th>4</th>\n      <td>ham</td>\n      <td>Nah I don't think he goes to usf, he lives aro...</td>\n      <td>Nah I dont think he goes to usf he lives aroun...</td>\n      <td>[nah, i, dont, think, he, goes, to, usf, he, l...</td>\n      <td>[nah, dont, think, goes, usf, lives, around, t...</td>\n      <td>[nah, dont, think, goe, usf, live, around, tho...</td>\n      <td>[nah, dont, think, goe, usf, live, around, tho...</td>\n      <td>49</td>\n    </tr>\n  </tbody>\n</table>\n</div>",
            "text/plain": "  Labels                                               Text  \\\n0    ham  Go until jurong point, crazy.. Available only ...   \n1    ham                      Ok lar... Joking wif u oni...   \n2   spam  Free entry in 2 a wkly comp to win FA Cup fina...   \n3    ham  U dun say so early hor... U c already then say...   \n4    ham  Nah I don't think he goes to usf, he lives aro...   \n\n                                          Clean_text  \\\n0  Go until jurong point crazy Available only in ...   \n1                            Ok lar Joking wif u oni   \n2  Free entry in 2 a wkly comp to win FA Cup fina...   \n3        U dun say so early hor U c already then say   \n4  Nah I dont think he goes to usf he lives aroun...   \n\n                                           tocknized  \\\n0  [go, until, jurong, point, crazy, available, o...   \n1                     [ok, lar, joking, wif, u, oni]   \n2  [free, entry, in, 2, a, wkly, comp, to, win, f...   \n3  [u, dun, say, so, early, hor, u, c, already, t...   \n4  [nah, i, dont, think, he, goes, to, usf, he, l...   \n\n                                        text_nonstop  \\\n0  [go, jurong, point, crazy, available, bugis, n...   \n1                     [ok, lar, joking, wif, u, oni]   \n2  [free, entry, 2, wkly, comp, win, fa, cup, fin...   \n3      [u, dun, say, early, hor, u, c, already, say]   \n4  [nah, dont, think, goes, usf, lives, around, t...   \n\n                                           text_stem  \\\n0  [go, jurong, point, crazi, avail, bugi, n, gre...   \n1                       [ok, lar, joke, wif, u, oni]   \n2  [free, entri, 2, wkli, comp, win, fa, cup, fin...   \n3      [u, dun, say, earli, hor, u, c, alreadi, say]   \n4  [nah, dont, think, goe, usf, live, around, tho...   \n\n                                           text_lemm  body_len  \n0  [go, jurong, point, crazi, avail, bugi, n, gre...        92  \n1                       [ok, lar, joke, wif, u, oni]        24  \n2  [free, entri, 2, wkli, comp, win, fa, cup, fin...       128  \n3      [u, dun, say, earli, hor, u, c, alreadi, say]        39  \n4  [nah, dont, think, goe, usf, live, around, tho...        49  "
          },
          "metadata": {}
        }
      ]
    },
    {
      "metadata": {
        "trusted": true
      },
      "cell_type": "code",
      "source": "#count punctuations \ndef count_punc(text):\n    count = sum ([1 for char in text if char in string.punctuation])\n    return round(count/(len(text)-text.count(\" \")), 3)*100\n\ndata['punch%'] = data['Text'].apply(lambda x: count_punc(x))\ndata.head()",
      "execution_count": 169,
      "outputs": [
        {
          "output_type": "execute_result",
          "execution_count": 169,
          "data": {
            "text/html": "<div>\n<style scoped>\n    .dataframe tbody tr th:only-of-type {\n        vertical-align: middle;\n    }\n\n    .dataframe tbody tr th {\n        vertical-align: top;\n    }\n\n    .dataframe thead th {\n        text-align: right;\n    }\n</style>\n<table border=\"1\" class=\"dataframe\">\n  <thead>\n    <tr style=\"text-align: right;\">\n      <th></th>\n      <th>Labels</th>\n      <th>Text</th>\n      <th>Clean_text</th>\n      <th>tocknized</th>\n      <th>text_nonstop</th>\n      <th>text_stem</th>\n      <th>text_lemm</th>\n      <th>body_len</th>\n      <th>punch%</th>\n    </tr>\n  </thead>\n  <tbody>\n    <tr>\n      <th>0</th>\n      <td>ham</td>\n      <td>Go until jurong point, crazy.. Available only ...</td>\n      <td>Go until jurong point crazy Available only in ...</td>\n      <td>[go, until, jurong, point, crazy, available, o...</td>\n      <td>[go, jurong, point, crazy, available, bugis, n...</td>\n      <td>[go, jurong, point, crazi, avail, bugi, n, gre...</td>\n      <td>[go, jurong, point, crazi, avail, bugi, n, gre...</td>\n      <td>92</td>\n      <td>9.8</td>\n    </tr>\n    <tr>\n      <th>1</th>\n      <td>ham</td>\n      <td>Ok lar... Joking wif u oni...</td>\n      <td>Ok lar Joking wif u oni</td>\n      <td>[ok, lar, joking, wif, u, oni]</td>\n      <td>[ok, lar, joking, wif, u, oni]</td>\n      <td>[ok, lar, joke, wif, u, oni]</td>\n      <td>[ok, lar, joke, wif, u, oni]</td>\n      <td>24</td>\n      <td>25.0</td>\n    </tr>\n    <tr>\n      <th>2</th>\n      <td>spam</td>\n      <td>Free entry in 2 a wkly comp to win FA Cup fina...</td>\n      <td>Free entry in 2 a wkly comp to win FA Cup fina...</td>\n      <td>[free, entry, in, 2, a, wkly, comp, to, win, f...</td>\n      <td>[free, entry, 2, wkly, comp, win, fa, cup, fin...</td>\n      <td>[free, entri, 2, wkli, comp, win, fa, cup, fin...</td>\n      <td>[free, entri, 2, wkli, comp, win, fa, cup, fin...</td>\n      <td>128</td>\n      <td>4.7</td>\n    </tr>\n    <tr>\n      <th>3</th>\n      <td>ham</td>\n      <td>U dun say so early hor... U c already then say...</td>\n      <td>U dun say so early hor U c already then say</td>\n      <td>[u, dun, say, so, early, hor, u, c, already, t...</td>\n      <td>[u, dun, say, early, hor, u, c, already, say]</td>\n      <td>[u, dun, say, earli, hor, u, c, alreadi, say]</td>\n      <td>[u, dun, say, earli, hor, u, c, alreadi, say]</td>\n      <td>39</td>\n      <td>15.4</td>\n    </tr>\n    <tr>\n      <th>4</th>\n      <td>ham</td>\n      <td>Nah I don't think he goes to usf, he lives aro...</td>\n      <td>Nah I dont think he goes to usf he lives aroun...</td>\n      <td>[nah, i, dont, think, he, goes, to, usf, he, l...</td>\n      <td>[nah, dont, think, goes, usf, lives, around, t...</td>\n      <td>[nah, dont, think, goe, usf, live, around, tho...</td>\n      <td>[nah, dont, think, goe, usf, live, around, tho...</td>\n      <td>49</td>\n      <td>4.1</td>\n    </tr>\n  </tbody>\n</table>\n</div>",
            "text/plain": "  Labels                                               Text  \\\n0    ham  Go until jurong point, crazy.. Available only ...   \n1    ham                      Ok lar... Joking wif u oni...   \n2   spam  Free entry in 2 a wkly comp to win FA Cup fina...   \n3    ham  U dun say so early hor... U c already then say...   \n4    ham  Nah I don't think he goes to usf, he lives aro...   \n\n                                          Clean_text  \\\n0  Go until jurong point crazy Available only in ...   \n1                            Ok lar Joking wif u oni   \n2  Free entry in 2 a wkly comp to win FA Cup fina...   \n3        U dun say so early hor U c already then say   \n4  Nah I dont think he goes to usf he lives aroun...   \n\n                                           tocknized  \\\n0  [go, until, jurong, point, crazy, available, o...   \n1                     [ok, lar, joking, wif, u, oni]   \n2  [free, entry, in, 2, a, wkly, comp, to, win, f...   \n3  [u, dun, say, so, early, hor, u, c, already, t...   \n4  [nah, i, dont, think, he, goes, to, usf, he, l...   \n\n                                        text_nonstop  \\\n0  [go, jurong, point, crazy, available, bugis, n...   \n1                     [ok, lar, joking, wif, u, oni]   \n2  [free, entry, 2, wkly, comp, win, fa, cup, fin...   \n3      [u, dun, say, early, hor, u, c, already, say]   \n4  [nah, dont, think, goes, usf, lives, around, t...   \n\n                                           text_stem  \\\n0  [go, jurong, point, crazi, avail, bugi, n, gre...   \n1                       [ok, lar, joke, wif, u, oni]   \n2  [free, entri, 2, wkli, comp, win, fa, cup, fin...   \n3      [u, dun, say, earli, hor, u, c, alreadi, say]   \n4  [nah, dont, think, goe, usf, live, around, tho...   \n\n                                           text_lemm  body_len  punch%  \n0  [go, jurong, point, crazi, avail, bugi, n, gre...        92     9.8  \n1                       [ok, lar, joke, wif, u, oni]        24    25.0  \n2  [free, entri, 2, wkli, comp, win, fa, cup, fin...       128     4.7  \n3      [u, dun, say, earli, hor, u, c, alreadi, say]        39    15.4  \n4  [nah, dont, think, goe, usf, live, around, tho...        49     4.1  "
          },
          "metadata": {}
        }
      ]
    },
    {
      "metadata": {
        "trusted": true
      },
      "cell_type": "code",
      "source": "#Plot histogram and compare the two\nimport numpy as np\nimport matplotlib.pyplot as plt\n\nbins = np.linspace(0,200,40)",
      "execution_count": 187,
      "outputs": []
    },
    {
      "metadata": {
        "trusted": true
      },
      "cell_type": "code",
      "source": "%pylab inline ",
      "execution_count": 190,
      "outputs": [
        {
          "output_type": "stream",
          "text": "Populating the interactive namespace from numpy and matplotlib\n",
          "name": "stdout"
        },
        {
          "output_type": "stream",
          "text": "/home/nbuser/anaconda3_501/lib/python3.6/site-packages/IPython/core/magics/pylab.py:160: UserWarning: pylab import has clobbered these variables: ['f']\n`%matplotlib` prevents importing * from pylab and numpy\n  \"\\n`%matplotlib` prevents importing * from pylab and numpy\"\n",
          "name": "stderr"
        }
      ]
    },
    {
      "metadata": {
        "trusted": true
      },
      "cell_type": "code",
      "source": "plt.figure(figsize=(10,5))\nplt.hist(data[data['Labels']=='spam']['body_len'],bins,alpha = 0.5, normed= True, label='spam msg')\nplt.hist(data[data['Labels']=='ham']['body_len'],bins,alpha = 0.5, normed= True, label='ham msg')\nplt.legend(loc='upper right')\nplt.title('Text length')\nplt.show()\n\nplt.figure(figsize=(10,5))\nplt.hist(data[data['Labels']=='spam']['punch%'],bins,alpha = 0.5, normed= True, label='spam msg')\nplt.hist(data[data['Labels']=='ham']['punch%'],bins,alpha = 0.5, normed= True, label='ham msg')\nplt.legend(loc='upper right')\nplt.title('Number of punctuations ')\nplt.show()",
      "execution_count": 198,
      "outputs": [
        {
          "output_type": "display_data",
          "data": {
            "image/png": "[encoded data removed]",
            "text/plain": "<Figure size 720x360 with 1 Axes>"
          },
          "metadata": {
            "needs_background": "light"
          }
        },
        {
          "output_type": "display_data",
          "data": {
            "image/png": "[encoded data removed]",
            "text/plain": "<Figure size 720x360 with 1 Axes>"
          },
          "metadata": {
            "needs_background": "light"
          }
        }
      ]
    },
    {
      "metadata": {
        "trusted": true
      },
      "cell_type": "code",
      "source": "",
      "execution_count": null,
      "outputs": []
    }
  ],
  "metadata": {
    "kernelspec": {
      "name": "python36",
      "display_name": "Python 3.6",
      "language": "python"
    },
    "language_info": {
      "mimetype": "text/x-python",
      "nbconvert_exporter": "python",
      "name": "python",
      "pygments_lexer": "ipython3",
      "version": "3.6.6",
      "file_extension": ".py",
      "codemirror_mode": {
        "version": 3,
        "name": "ipython"
      }
    }
  },
  "nbformat": 4,
  "nbformat_minor": 2
}