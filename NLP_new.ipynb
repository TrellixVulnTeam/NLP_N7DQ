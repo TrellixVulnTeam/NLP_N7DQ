{
  "cells": [
    {
      "metadata": {
        "collapsed": true
      },
      "cell_type": "markdown",
      "source": "# Exploring NLP with random forest algorithm \n"
    },
    {
      "metadata": {
        "trusted": true
      },
      "cell_type": "markdown",
      "source": "$\\text{Helping Computers analyze text easily i.e detect spam emails, autocorrect}$"
    },
    {
      "metadata": {},
      "cell_type": "markdown",
      "source": "$\\text{NLP is a field in machine learning with the ability of a computer to understand, analyze, manipulate, and potentially generate human language}$"
    },
    {
      "metadata": {},
      "cell_type": "markdown",
      "source": "$\\text{Examples of NLP in real life}$"
    },
    {
      "metadata": {},
      "cell_type": "markdown",
      "source": "\n- information retrival \n- Information extraction (Gmails structures events from emails)\n- Machine translation (e.g language )\n- Text simplification \n- Sentiment analysis \n- Spam filter \n- Auto-predict\n- Auto correct \n- Speech recognition \n- Question answering \n- NL generaton \n"
    },
    {
      "metadata": {
        "trusted": true
      },
      "cell_type": "code",
      "source": "#Installing natural language processing tool kit \n!pip install nltk",
      "execution_count": 1,
      "outputs": [
        {
          "output_type": "stream",
          "text": "Requirement already satisfied: nltk in /home/nbuser/anaconda3_501/lib/python3.6/site-packages (3.3)\nRequirement already satisfied: six in /home/nbuser/anaconda3_501/lib/python3.6/site-packages (from nltk) (1.11.0)\n",
          "name": "stdout"
        }
      ]
    },
    {
      "metadata": {
        "trusted": true
      },
      "cell_type": "code",
      "source": "import nltk\nfrom sklearn.metrics import confusion_matrix\nfrom sklearn.model_selection import train_test_split\nimport string \nimport re\nfrom sklearn import metrics\nimport numpy as np\nimport matplotlib.pyplot as plt\nfrom sklearn.feature_extraction.text import TfidfVectorizer\nfrom sklearn.ensemble import RandomForestClassifier\nfrom sklearn.model_selection import GridSearchCV\nfrom sklearn.model_selection import RandomizedSearchCV\nfrom sklearn.metrics import precision_recall_fscore_support as score\nfrom sklearn.metrics import accuracy_score as acs\nimport matplotlib.pyplot as plt\nimport seaborn as sns\n#nltk.download()",
      "execution_count": 151,
      "outputs": []
    },
    {
      "metadata": {},
      "cell_type": "markdown",
      "source": "# Reading and exploring our dataset "
    },
    {
      "metadata": {
        "trusted": true
      },
      "cell_type": "code",
      "source": "import pandas as pd \n",
      "execution_count": 3,
      "outputs": []
    },
    {
      "metadata": {
        "trusted": true
      },
      "cell_type": "code",
      "source": "#!wget https://raw.githubusercontent.com/mohitgupta-omg/Kaggle-SMS-Spam-Collection-Dataset-/master/spam.csv\n#!wget https://github.com/mohitgupta-omg/Kaggle-SMS-Spam-Collection-Dataset-/blob/master/spam.csv ",
      "execution_count": 4,
      "outputs": []
    },
    {
      "metadata": {
        "trusted": true
      },
      "cell_type": "code",
      "source": "data = pd.read_csv('spam.csv',engine = 'python')",
      "execution_count": 5,
      "outputs": []
    },
    {
      "metadata": {
        "trusted": true
      },
      "cell_type": "code",
      "source": "data = data.drop(['Unnamed: 2','Unnamed: 3','Unnamed: 4'], axis =1)",
      "execution_count": 6,
      "outputs": []
    },
    {
      "metadata": {
        "trusted": true
      },
      "cell_type": "code",
      "source": "data.head()",
      "execution_count": 7,
      "outputs": [
        {
          "output_type": "execute_result",
          "execution_count": 7,
          "data": {
            "text/html": "<div>\n<style scoped>\n    .dataframe tbody tr th:only-of-type {\n        vertical-align: middle;\n    }\n\n    .dataframe tbody tr th {\n        vertical-align: top;\n    }\n\n    .dataframe thead th {\n        text-align: right;\n    }\n</style>\n<table border=\"1\" class=\"dataframe\">\n  <thead>\n    <tr style=\"text-align: right;\">\n      <th></th>\n      <th>v1</th>\n      <th>v2</th>\n    </tr>\n  </thead>\n  <tbody>\n    <tr>\n      <th>0</th>\n      <td>ham</td>\n      <td>Go until jurong point, crazy.. Available only ...</td>\n    </tr>\n    <tr>\n      <th>1</th>\n      <td>ham</td>\n      <td>Ok lar... Joking wif u oni...</td>\n    </tr>\n    <tr>\n      <th>2</th>\n      <td>spam</td>\n      <td>Free entry in 2 a wkly comp to win FA Cup fina...</td>\n    </tr>\n    <tr>\n      <th>3</th>\n      <td>ham</td>\n      <td>U dun say so early hor... U c already then say...</td>\n    </tr>\n    <tr>\n      <th>4</th>\n      <td>ham</td>\n      <td>Nah I don't think he goes to usf, he lives aro...</td>\n    </tr>\n  </tbody>\n</table>\n</div>",
            "text/plain": "     v1                                                 v2\n0   ham  Go until jurong point, crazy.. Available only ...\n1   ham                      Ok lar... Joking wif u oni...\n2  spam  Free entry in 2 a wkly comp to win FA Cup fina...\n3   ham  U dun say so early hor... U c already then say...\n4   ham  Nah I don't think he goes to usf, he lives aro..."
          },
          "metadata": {}
        }
      ]
    },
    {
      "metadata": {
        "trusted": true
      },
      "cell_type": "code",
      "source": "header = ['Labels', 'text']\ndata= data.rename(columns = {\"v1\":\"Labels\", \"v2\": \"Text\"})",
      "execution_count": 8,
      "outputs": []
    },
    {
      "metadata": {
        "trusted": true
      },
      "cell_type": "code",
      "source": "data.head()",
      "execution_count": 9,
      "outputs": [
        {
          "output_type": "execute_result",
          "execution_count": 9,
          "data": {
            "text/html": "<div>\n<style scoped>\n    .dataframe tbody tr th:only-of-type {\n        vertical-align: middle;\n    }\n\n    .dataframe tbody tr th {\n        vertical-align: top;\n    }\n\n    .dataframe thead th {\n        text-align: right;\n    }\n</style>\n<table border=\"1\" class=\"dataframe\">\n  <thead>\n    <tr style=\"text-align: right;\">\n      <th></th>\n      <th>Labels</th>\n      <th>Text</th>\n    </tr>\n  </thead>\n  <tbody>\n    <tr>\n      <th>0</th>\n      <td>ham</td>\n      <td>Go until jurong point, crazy.. Available only ...</td>\n    </tr>\n    <tr>\n      <th>1</th>\n      <td>ham</td>\n      <td>Ok lar... Joking wif u oni...</td>\n    </tr>\n    <tr>\n      <th>2</th>\n      <td>spam</td>\n      <td>Free entry in 2 a wkly comp to win FA Cup fina...</td>\n    </tr>\n    <tr>\n      <th>3</th>\n      <td>ham</td>\n      <td>U dun say so early hor... U c already then say...</td>\n    </tr>\n    <tr>\n      <th>4</th>\n      <td>ham</td>\n      <td>Nah I don't think he goes to usf, he lives aro...</td>\n    </tr>\n  </tbody>\n</table>\n</div>",
            "text/plain": "  Labels                                               Text\n0    ham  Go until jurong point, crazy.. Available only ...\n1    ham                      Ok lar... Joking wif u oni...\n2   spam  Free entry in 2 a wkly comp to win FA Cup fina...\n3    ham  U dun say so early hor... U c already then say...\n4    ham  Nah I don't think he goes to usf, he lives aro..."
          },
          "metadata": {}
        }
      ]
    },
    {
      "metadata": {
        "trusted": true
      },
      "cell_type": "code",
      "source": "data['Labels'].value_counts()",
      "execution_count": 10,
      "outputs": [
        {
          "output_type": "execute_result",
          "execution_count": 10,
          "data": {
            "text/plain": "ham     4825\nspam     747\nName: Labels, dtype: int64"
          },
          "metadata": {}
        }
      ]
    },
    {
      "metadata": {},
      "cell_type": "markdown",
      "source": "# Pre-processing our data "
    },
    {
      "metadata": {
        "trusted": true
      },
      "cell_type": "code",
      "source": "#removing punctuations\ndef remove_punct(text):\n    text_nopunct = \"\".join ([char for char in text if char not in string.punctuation])\n    return text_nopunct",
      "execution_count": 11,
      "outputs": []
    },
    {
      "metadata": {
        "trusted": true
      },
      "cell_type": "code",
      "source": "data['Clean_text'] = data['Text'].apply(lambda x:remove_punct(x))",
      "execution_count": 12,
      "outputs": []
    },
    {
      "metadata": {
        "trusted": true
      },
      "cell_type": "code",
      "source": "remove_punct('who am@ i#')",
      "execution_count": 13,
      "outputs": [
        {
          "output_type": "execute_result",
          "execution_count": 13,
          "data": {
            "text/plain": "'who am i'"
          },
          "metadata": {}
        }
      ]
    },
    {
      "metadata": {
        "trusted": true
      },
      "cell_type": "code",
      "source": "data.head()",
      "execution_count": 14,
      "outputs": [
        {
          "output_type": "execute_result",
          "execution_count": 14,
          "data": {
            "text/html": "<div>\n<style scoped>\n    .dataframe tbody tr th:only-of-type {\n        vertical-align: middle;\n    }\n\n    .dataframe tbody tr th {\n        vertical-align: top;\n    }\n\n    .dataframe thead th {\n        text-align: right;\n    }\n</style>\n<table border=\"1\" class=\"dataframe\">\n  <thead>\n    <tr style=\"text-align: right;\">\n      <th></th>\n      <th>Labels</th>\n      <th>Text</th>\n      <th>Clean_text</th>\n    </tr>\n  </thead>\n  <tbody>\n    <tr>\n      <th>0</th>\n      <td>ham</td>\n      <td>Go until jurong point, crazy.. Available only ...</td>\n      <td>Go until jurong point crazy Available only in ...</td>\n    </tr>\n    <tr>\n      <th>1</th>\n      <td>ham</td>\n      <td>Ok lar... Joking wif u oni...</td>\n      <td>Ok lar Joking wif u oni</td>\n    </tr>\n    <tr>\n      <th>2</th>\n      <td>spam</td>\n      <td>Free entry in 2 a wkly comp to win FA Cup fina...</td>\n      <td>Free entry in 2 a wkly comp to win FA Cup fina...</td>\n    </tr>\n    <tr>\n      <th>3</th>\n      <td>ham</td>\n      <td>U dun say so early hor... U c already then say...</td>\n      <td>U dun say so early hor U c already then say</td>\n    </tr>\n    <tr>\n      <th>4</th>\n      <td>ham</td>\n      <td>Nah I don't think he goes to usf, he lives aro...</td>\n      <td>Nah I dont think he goes to usf he lives aroun...</td>\n    </tr>\n  </tbody>\n</table>\n</div>",
            "text/plain": "  Labels                                               Text  \\\n0    ham  Go until jurong point, crazy.. Available only ...   \n1    ham                      Ok lar... Joking wif u oni...   \n2   spam  Free entry in 2 a wkly comp to win FA Cup fina...   \n3    ham  U dun say so early hor... U c already then say...   \n4    ham  Nah I don't think he goes to usf, he lives aro...   \n\n                                          Clean_text  \n0  Go until jurong point crazy Available only in ...  \n1                            Ok lar Joking wif u oni  \n2  Free entry in 2 a wkly comp to win FA Cup fina...  \n3        U dun say so early hor U c already then say  \n4  Nah I dont think he goes to usf he lives aroun...  "
          },
          "metadata": {}
        }
      ]
    },
    {
      "metadata": {
        "trusted": true
      },
      "cell_type": "code",
      "source": "#tockenizing the data \ndef tokenize(text):\n    tockens = re.split('\\W+',text)\n    return tockens\n\ndata['tocknized']=data['Clean_text'].apply(lambda x: tokenize(x.lower()))\n",
      "execution_count": 15,
      "outputs": []
    },
    {
      "metadata": {
        "trusted": true
      },
      "cell_type": "code",
      "source": "# remove stopwords\nnltk.download('stopwords')",
      "execution_count": 16,
      "outputs": [
        {
          "output_type": "stream",
          "text": "[nltk_data] Downloading package stopwords to /home/nbuser/nltk_data...\n[nltk_data]   Unzipping corpora/stopwords.zip.\n",
          "name": "stdout"
        },
        {
          "output_type": "execute_result",
          "execution_count": 16,
          "data": {
            "text/plain": "True"
          },
          "metadata": {}
        }
      ]
    },
    {
      "metadata": {
        "trusted": true
      },
      "cell_type": "code",
      "source": "stopword = nltk.corpus.stopwords.words('english')",
      "execution_count": 17,
      "outputs": []
    },
    {
      "metadata": {
        "trusted": true
      },
      "cell_type": "code",
      "source": "def rm_stopwords(tokenized_list):\n    text = [word for word in tokenized_list if word not in stopword]\n    return text\ndata['text_nonstop'] = data['tocknized'].apply(lambda x: rm_stopwords(x))",
      "execution_count": 18,
      "outputs": []
    },
    {
      "metadata": {
        "trusted": true
      },
      "cell_type": "code",
      "source": "data.head()",
      "execution_count": 19,
      "outputs": [
        {
          "output_type": "execute_result",
          "execution_count": 19,
          "data": {
            "text/html": "<div>\n<style scoped>\n    .dataframe tbody tr th:only-of-type {\n        vertical-align: middle;\n    }\n\n    .dataframe tbody tr th {\n        vertical-align: top;\n    }\n\n    .dataframe thead th {\n        text-align: right;\n    }\n</style>\n<table border=\"1\" class=\"dataframe\">\n  <thead>\n    <tr style=\"text-align: right;\">\n      <th></th>\n      <th>Labels</th>\n      <th>Text</th>\n      <th>Clean_text</th>\n      <th>tocknized</th>\n      <th>text_nonstop</th>\n    </tr>\n  </thead>\n  <tbody>\n    <tr>\n      <th>0</th>\n      <td>ham</td>\n      <td>Go until jurong point, crazy.. Available only ...</td>\n      <td>Go until jurong point crazy Available only in ...</td>\n      <td>[go, until, jurong, point, crazy, available, o...</td>\n      <td>[go, jurong, point, crazy, available, bugis, n...</td>\n    </tr>\n    <tr>\n      <th>1</th>\n      <td>ham</td>\n      <td>Ok lar... Joking wif u oni...</td>\n      <td>Ok lar Joking wif u oni</td>\n      <td>[ok, lar, joking, wif, u, oni]</td>\n      <td>[ok, lar, joking, wif, u, oni]</td>\n    </tr>\n    <tr>\n      <th>2</th>\n      <td>spam</td>\n      <td>Free entry in 2 a wkly comp to win FA Cup fina...</td>\n      <td>Free entry in 2 a wkly comp to win FA Cup fina...</td>\n      <td>[free, entry, in, 2, a, wkly, comp, to, win, f...</td>\n      <td>[free, entry, 2, wkly, comp, win, fa, cup, fin...</td>\n    </tr>\n    <tr>\n      <th>3</th>\n      <td>ham</td>\n      <td>U dun say so early hor... U c already then say...</td>\n      <td>U dun say so early hor U c already then say</td>\n      <td>[u, dun, say, so, early, hor, u, c, already, t...</td>\n      <td>[u, dun, say, early, hor, u, c, already, say]</td>\n    </tr>\n    <tr>\n      <th>4</th>\n      <td>ham</td>\n      <td>Nah I don't think he goes to usf, he lives aro...</td>\n      <td>Nah I dont think he goes to usf he lives aroun...</td>\n      <td>[nah, i, dont, think, he, goes, to, usf, he, l...</td>\n      <td>[nah, dont, think, goes, usf, lives, around, t...</td>\n    </tr>\n  </tbody>\n</table>\n</div>",
            "text/plain": "  Labels                                               Text  \\\n0    ham  Go until jurong point, crazy.. Available only ...   \n1    ham                      Ok lar... Joking wif u oni...   \n2   spam  Free entry in 2 a wkly comp to win FA Cup fina...   \n3    ham  U dun say so early hor... U c already then say...   \n4    ham  Nah I don't think he goes to usf, he lives aro...   \n\n                                          Clean_text  \\\n0  Go until jurong point crazy Available only in ...   \n1                            Ok lar Joking wif u oni   \n2  Free entry in 2 a wkly comp to win FA Cup fina...   \n3        U dun say so early hor U c already then say   \n4  Nah I dont think he goes to usf he lives aroun...   \n\n                                           tocknized  \\\n0  [go, until, jurong, point, crazy, available, o...   \n1                     [ok, lar, joking, wif, u, oni]   \n2  [free, entry, in, 2, a, wkly, comp, to, win, f...   \n3  [u, dun, say, so, early, hor, u, c, already, t...   \n4  [nah, i, dont, think, he, goes, to, usf, he, l...   \n\n                                        text_nonstop  \n0  [go, jurong, point, crazy, available, bugis, n...  \n1                     [ok, lar, joking, wif, u, oni]  \n2  [free, entry, 2, wkly, comp, win, fa, cup, fin...  \n3      [u, dun, say, early, hor, u, c, already, say]  \n4  [nah, dont, think, goes, usf, lives, around, t...  "
          },
          "metadata": {}
        }
      ]
    },
    {
      "metadata": {
        "trusted": true
      },
      "cell_type": "code",
      "source": "#Stemming \nps = nltk.PorterStemmer()\ndef stemming(tockenized_text):\n    text = [ps.stem(word) for word in tockenized_text]\n    return text \ndata['text_stem'] = data['text_nonstop'].apply(lambda x: stemming(x))\ndata.head()",
      "execution_count": 20,
      "outputs": [
        {
          "output_type": "execute_result",
          "execution_count": 20,
          "data": {
            "text/html": "<div>\n<style scoped>\n    .dataframe tbody tr th:only-of-type {\n        vertical-align: middle;\n    }\n\n    .dataframe tbody tr th {\n        vertical-align: top;\n    }\n\n    .dataframe thead th {\n        text-align: right;\n    }\n</style>\n<table border=\"1\" class=\"dataframe\">\n  <thead>\n    <tr style=\"text-align: right;\">\n      <th></th>\n      <th>Labels</th>\n      <th>Text</th>\n      <th>Clean_text</th>\n      <th>tocknized</th>\n      <th>text_nonstop</th>\n      <th>text_stem</th>\n    </tr>\n  </thead>\n  <tbody>\n    <tr>\n      <th>0</th>\n      <td>ham</td>\n      <td>Go until jurong point, crazy.. Available only ...</td>\n      <td>Go until jurong point crazy Available only in ...</td>\n      <td>[go, until, jurong, point, crazy, available, o...</td>\n      <td>[go, jurong, point, crazy, available, bugis, n...</td>\n      <td>[go, jurong, point, crazi, avail, bugi, n, gre...</td>\n    </tr>\n    <tr>\n      <th>1</th>\n      <td>ham</td>\n      <td>Ok lar... Joking wif u oni...</td>\n      <td>Ok lar Joking wif u oni</td>\n      <td>[ok, lar, joking, wif, u, oni]</td>\n      <td>[ok, lar, joking, wif, u, oni]</td>\n      <td>[ok, lar, joke, wif, u, oni]</td>\n    </tr>\n    <tr>\n      <th>2</th>\n      <td>spam</td>\n      <td>Free entry in 2 a wkly comp to win FA Cup fina...</td>\n      <td>Free entry in 2 a wkly comp to win FA Cup fina...</td>\n      <td>[free, entry, in, 2, a, wkly, comp, to, win, f...</td>\n      <td>[free, entry, 2, wkly, comp, win, fa, cup, fin...</td>\n      <td>[free, entri, 2, wkli, comp, win, fa, cup, fin...</td>\n    </tr>\n    <tr>\n      <th>3</th>\n      <td>ham</td>\n      <td>U dun say so early hor... U c already then say...</td>\n      <td>U dun say so early hor U c already then say</td>\n      <td>[u, dun, say, so, early, hor, u, c, already, t...</td>\n      <td>[u, dun, say, early, hor, u, c, already, say]</td>\n      <td>[u, dun, say, earli, hor, u, c, alreadi, say]</td>\n    </tr>\n    <tr>\n      <th>4</th>\n      <td>ham</td>\n      <td>Nah I don't think he goes to usf, he lives aro...</td>\n      <td>Nah I dont think he goes to usf he lives aroun...</td>\n      <td>[nah, i, dont, think, he, goes, to, usf, he, l...</td>\n      <td>[nah, dont, think, goes, usf, lives, around, t...</td>\n      <td>[nah, dont, think, goe, usf, live, around, tho...</td>\n    </tr>\n  </tbody>\n</table>\n</div>",
            "text/plain": "  Labels                                               Text  \\\n0    ham  Go until jurong point, crazy.. Available only ...   \n1    ham                      Ok lar... Joking wif u oni...   \n2   spam  Free entry in 2 a wkly comp to win FA Cup fina...   \n3    ham  U dun say so early hor... U c already then say...   \n4    ham  Nah I don't think he goes to usf, he lives aro...   \n\n                                          Clean_text  \\\n0  Go until jurong point crazy Available only in ...   \n1                            Ok lar Joking wif u oni   \n2  Free entry in 2 a wkly comp to win FA Cup fina...   \n3        U dun say so early hor U c already then say   \n4  Nah I dont think he goes to usf he lives aroun...   \n\n                                           tocknized  \\\n0  [go, until, jurong, point, crazy, available, o...   \n1                     [ok, lar, joking, wif, u, oni]   \n2  [free, entry, in, 2, a, wkly, comp, to, win, f...   \n3  [u, dun, say, so, early, hor, u, c, already, t...   \n4  [nah, i, dont, think, he, goes, to, usf, he, l...   \n\n                                        text_nonstop  \\\n0  [go, jurong, point, crazy, available, bugis, n...   \n1                     [ok, lar, joking, wif, u, oni]   \n2  [free, entry, 2, wkly, comp, win, fa, cup, fin...   \n3      [u, dun, say, early, hor, u, c, already, say]   \n4  [nah, dont, think, goes, usf, lives, around, t...   \n\n                                           text_stem  \n0  [go, jurong, point, crazi, avail, bugi, n, gre...  \n1                       [ok, lar, joke, wif, u, oni]  \n2  [free, entri, 2, wkli, comp, win, fa, cup, fin...  \n3      [u, dun, say, earli, hor, u, c, alreadi, say]  \n4  [nah, dont, think, goe, usf, live, around, tho...  "
          },
          "metadata": {}
        }
      ]
    },
    {
      "metadata": {
        "trusted": true
      },
      "cell_type": "code",
      "source": "nltk.download('wordnet')\nwn = nltk.WordNetLemmatizer()\ndef lemm(tockenized_text):\n    text = [wn.lemmatize(word) for word in tockenized_text]\n    return text\n\ndata['text_lemm'] = data ['text_stem'].apply(lambda x: lemm(x))\ndata.head()",
      "execution_count": 21,
      "outputs": [
        {
          "output_type": "stream",
          "text": "[nltk_data] Downloading package wordnet to /home/nbuser/nltk_data...\n[nltk_data]   Unzipping corpora/wordnet.zip.\n",
          "name": "stdout"
        },
        {
          "output_type": "execute_result",
          "execution_count": 21,
          "data": {
            "text/html": "<div>\n<style scoped>\n    .dataframe tbody tr th:only-of-type {\n        vertical-align: middle;\n    }\n\n    .dataframe tbody tr th {\n        vertical-align: top;\n    }\n\n    .dataframe thead th {\n        text-align: right;\n    }\n</style>\n<table border=\"1\" class=\"dataframe\">\n  <thead>\n    <tr style=\"text-align: right;\">\n      <th></th>\n      <th>Labels</th>\n      <th>Text</th>\n      <th>Clean_text</th>\n      <th>tocknized</th>\n      <th>text_nonstop</th>\n      <th>text_stem</th>\n      <th>text_lemm</th>\n    </tr>\n  </thead>\n  <tbody>\n    <tr>\n      <th>0</th>\n      <td>ham</td>\n      <td>Go until jurong point, crazy.. Available only ...</td>\n      <td>Go until jurong point crazy Available only in ...</td>\n      <td>[go, until, jurong, point, crazy, available, o...</td>\n      <td>[go, jurong, point, crazy, available, bugis, n...</td>\n      <td>[go, jurong, point, crazi, avail, bugi, n, gre...</td>\n      <td>[go, jurong, point, crazi, avail, bugi, n, gre...</td>\n    </tr>\n    <tr>\n      <th>1</th>\n      <td>ham</td>\n      <td>Ok lar... Joking wif u oni...</td>\n      <td>Ok lar Joking wif u oni</td>\n      <td>[ok, lar, joking, wif, u, oni]</td>\n      <td>[ok, lar, joking, wif, u, oni]</td>\n      <td>[ok, lar, joke, wif, u, oni]</td>\n      <td>[ok, lar, joke, wif, u, oni]</td>\n    </tr>\n    <tr>\n      <th>2</th>\n      <td>spam</td>\n      <td>Free entry in 2 a wkly comp to win FA Cup fina...</td>\n      <td>Free entry in 2 a wkly comp to win FA Cup fina...</td>\n      <td>[free, entry, in, 2, a, wkly, comp, to, win, f...</td>\n      <td>[free, entry, 2, wkly, comp, win, fa, cup, fin...</td>\n      <td>[free, entri, 2, wkli, comp, win, fa, cup, fin...</td>\n      <td>[free, entri, 2, wkli, comp, win, fa, cup, fin...</td>\n    </tr>\n    <tr>\n      <th>3</th>\n      <td>ham</td>\n      <td>U dun say so early hor... U c already then say...</td>\n      <td>U dun say so early hor U c already then say</td>\n      <td>[u, dun, say, so, early, hor, u, c, already, t...</td>\n      <td>[u, dun, say, early, hor, u, c, already, say]</td>\n      <td>[u, dun, say, earli, hor, u, c, alreadi, say]</td>\n      <td>[u, dun, say, earli, hor, u, c, alreadi, say]</td>\n    </tr>\n    <tr>\n      <th>4</th>\n      <td>ham</td>\n      <td>Nah I don't think he goes to usf, he lives aro...</td>\n      <td>Nah I dont think he goes to usf he lives aroun...</td>\n      <td>[nah, i, dont, think, he, goes, to, usf, he, l...</td>\n      <td>[nah, dont, think, goes, usf, lives, around, t...</td>\n      <td>[nah, dont, think, goe, usf, live, around, tho...</td>\n      <td>[nah, dont, think, goe, usf, live, around, tho...</td>\n    </tr>\n  </tbody>\n</table>\n</div>",
            "text/plain": "  Labels                                               Text  \\\n0    ham  Go until jurong point, crazy.. Available only ...   \n1    ham                      Ok lar... Joking wif u oni...   \n2   spam  Free entry in 2 a wkly comp to win FA Cup fina...   \n3    ham  U dun say so early hor... U c already then say...   \n4    ham  Nah I don't think he goes to usf, he lives aro...   \n\n                                          Clean_text  \\\n0  Go until jurong point crazy Available only in ...   \n1                            Ok lar Joking wif u oni   \n2  Free entry in 2 a wkly comp to win FA Cup fina...   \n3        U dun say so early hor U c already then say   \n4  Nah I dont think he goes to usf he lives aroun...   \n\n                                           tocknized  \\\n0  [go, until, jurong, point, crazy, available, o...   \n1                     [ok, lar, joking, wif, u, oni]   \n2  [free, entry, in, 2, a, wkly, comp, to, win, f...   \n3  [u, dun, say, so, early, hor, u, c, already, t...   \n4  [nah, i, dont, think, he, goes, to, usf, he, l...   \n\n                                        text_nonstop  \\\n0  [go, jurong, point, crazy, available, bugis, n...   \n1                     [ok, lar, joking, wif, u, oni]   \n2  [free, entry, 2, wkly, comp, win, fa, cup, fin...   \n3      [u, dun, say, early, hor, u, c, already, say]   \n4  [nah, dont, think, goes, usf, lives, around, t...   \n\n                                           text_stem  \\\n0  [go, jurong, point, crazi, avail, bugi, n, gre...   \n1                       [ok, lar, joke, wif, u, oni]   \n2  [free, entri, 2, wkli, comp, win, fa, cup, fin...   \n3      [u, dun, say, earli, hor, u, c, alreadi, say]   \n4  [nah, dont, think, goe, usf, live, around, tho...   \n\n                                           text_lemm  \n0  [go, jurong, point, crazi, avail, bugi, n, gre...  \n1                       [ok, lar, joke, wif, u, oni]  \n2  [free, entri, 2, wkli, comp, win, fa, cup, fin...  \n3      [u, dun, say, earli, hor, u, c, alreadi, say]  \n4  [nah, dont, think, goe, usf, live, around, tho...  "
          },
          "metadata": {}
        }
      ]
    },
    {
      "metadata": {},
      "cell_type": "markdown",
      "source": "# Feature engeneering \n"
    },
    {
      "metadata": {
        "trusted": true
      },
      "cell_type": "code",
      "source": "\"\"\"Feature engineering is the process of using domain knowledge of\nthe data to create features that make machine learning algorithms work.\nIn our case we will first look at simple features between spam and ham, \nlike message length and punctuations\"\"\"",
      "execution_count": 22,
      "outputs": [
        {
          "output_type": "execute_result",
          "execution_count": 22,
          "data": {
            "text/plain": "'Feature engineering is the process of using domain knowledge of\\nthe data to create features that make machine learning algorithms work.\\nIn our case we will first look at simple features between spam and ham, \\nlike message length and punctuations'"
          },
          "metadata": {}
        }
      ]
    },
    {
      "metadata": {
        "trusted": true
      },
      "cell_type": "code",
      "source": "#calculate length of text \ndata['body_len'] = data['Text'].apply(lambda x: len(x)-x.count(\" \"))\ndata.head()",
      "execution_count": 23,
      "outputs": [
        {
          "output_type": "execute_result",
          "execution_count": 23,
          "data": {
            "text/html": "<div>\n<style scoped>\n    .dataframe tbody tr th:only-of-type {\n        vertical-align: middle;\n    }\n\n    .dataframe tbody tr th {\n        vertical-align: top;\n    }\n\n    .dataframe thead th {\n        text-align: right;\n    }\n</style>\n<table border=\"1\" class=\"dataframe\">\n  <thead>\n    <tr style=\"text-align: right;\">\n      <th></th>\n      <th>Labels</th>\n      <th>Text</th>\n      <th>Clean_text</th>\n      <th>tocknized</th>\n      <th>text_nonstop</th>\n      <th>text_stem</th>\n      <th>text_lemm</th>\n      <th>body_len</th>\n    </tr>\n  </thead>\n  <tbody>\n    <tr>\n      <th>0</th>\n      <td>ham</td>\n      <td>Go until jurong point, crazy.. Available only ...</td>\n      <td>Go until jurong point crazy Available only in ...</td>\n      <td>[go, until, jurong, point, crazy, available, o...</td>\n      <td>[go, jurong, point, crazy, available, bugis, n...</td>\n      <td>[go, jurong, point, crazi, avail, bugi, n, gre...</td>\n      <td>[go, jurong, point, crazi, avail, bugi, n, gre...</td>\n      <td>92</td>\n    </tr>\n    <tr>\n      <th>1</th>\n      <td>ham</td>\n      <td>Ok lar... Joking wif u oni...</td>\n      <td>Ok lar Joking wif u oni</td>\n      <td>[ok, lar, joking, wif, u, oni]</td>\n      <td>[ok, lar, joking, wif, u, oni]</td>\n      <td>[ok, lar, joke, wif, u, oni]</td>\n      <td>[ok, lar, joke, wif, u, oni]</td>\n      <td>24</td>\n    </tr>\n    <tr>\n      <th>2</th>\n      <td>spam</td>\n      <td>Free entry in 2 a wkly comp to win FA Cup fina...</td>\n      <td>Free entry in 2 a wkly comp to win FA Cup fina...</td>\n      <td>[free, entry, in, 2, a, wkly, comp, to, win, f...</td>\n      <td>[free, entry, 2, wkly, comp, win, fa, cup, fin...</td>\n      <td>[free, entri, 2, wkli, comp, win, fa, cup, fin...</td>\n      <td>[free, entri, 2, wkli, comp, win, fa, cup, fin...</td>\n      <td>128</td>\n    </tr>\n    <tr>\n      <th>3</th>\n      <td>ham</td>\n      <td>U dun say so early hor... U c already then say...</td>\n      <td>U dun say so early hor U c already then say</td>\n      <td>[u, dun, say, so, early, hor, u, c, already, t...</td>\n      <td>[u, dun, say, early, hor, u, c, already, say]</td>\n      <td>[u, dun, say, earli, hor, u, c, alreadi, say]</td>\n      <td>[u, dun, say, earli, hor, u, c, alreadi, say]</td>\n      <td>39</td>\n    </tr>\n    <tr>\n      <th>4</th>\n      <td>ham</td>\n      <td>Nah I don't think he goes to usf, he lives aro...</td>\n      <td>Nah I dont think he goes to usf he lives aroun...</td>\n      <td>[nah, i, dont, think, he, goes, to, usf, he, l...</td>\n      <td>[nah, dont, think, goes, usf, lives, around, t...</td>\n      <td>[nah, dont, think, goe, usf, live, around, tho...</td>\n      <td>[nah, dont, think, goe, usf, live, around, tho...</td>\n      <td>49</td>\n    </tr>\n  </tbody>\n</table>\n</div>",
            "text/plain": "  Labels                                               Text  \\\n0    ham  Go until jurong point, crazy.. Available only ...   \n1    ham                      Ok lar... Joking wif u oni...   \n2   spam  Free entry in 2 a wkly comp to win FA Cup fina...   \n3    ham  U dun say so early hor... U c already then say...   \n4    ham  Nah I don't think he goes to usf, he lives aro...   \n\n                                          Clean_text  \\\n0  Go until jurong point crazy Available only in ...   \n1                            Ok lar Joking wif u oni   \n2  Free entry in 2 a wkly comp to win FA Cup fina...   \n3        U dun say so early hor U c already then say   \n4  Nah I dont think he goes to usf he lives aroun...   \n\n                                           tocknized  \\\n0  [go, until, jurong, point, crazy, available, o...   \n1                     [ok, lar, joking, wif, u, oni]   \n2  [free, entry, in, 2, a, wkly, comp, to, win, f...   \n3  [u, dun, say, so, early, hor, u, c, already, t...   \n4  [nah, i, dont, think, he, goes, to, usf, he, l...   \n\n                                        text_nonstop  \\\n0  [go, jurong, point, crazy, available, bugis, n...   \n1                     [ok, lar, joking, wif, u, oni]   \n2  [free, entry, 2, wkly, comp, win, fa, cup, fin...   \n3      [u, dun, say, early, hor, u, c, already, say]   \n4  [nah, dont, think, goes, usf, lives, around, t...   \n\n                                           text_stem  \\\n0  [go, jurong, point, crazi, avail, bugi, n, gre...   \n1                       [ok, lar, joke, wif, u, oni]   \n2  [free, entri, 2, wkli, comp, win, fa, cup, fin...   \n3      [u, dun, say, earli, hor, u, c, alreadi, say]   \n4  [nah, dont, think, goe, usf, live, around, tho...   \n\n                                           text_lemm  body_len  \n0  [go, jurong, point, crazi, avail, bugi, n, gre...        92  \n1                       [ok, lar, joke, wif, u, oni]        24  \n2  [free, entri, 2, wkli, comp, win, fa, cup, fin...       128  \n3      [u, dun, say, earli, hor, u, c, alreadi, say]        39  \n4  [nah, dont, think, goe, usf, live, around, tho...        49  "
          },
          "metadata": {}
        }
      ]
    },
    {
      "metadata": {
        "trusted": true
      },
      "cell_type": "code",
      "source": "#count punctuations \ndef count_punc(text):\n    count = sum ([1 for char in text if char in string.punctuation])\n    return round(count/(len(text)-text.count(\" \")), 3)*100\n\ndata['punch%'] = data['Text'].apply(lambda x: count_punc(x))\ndata.head()",
      "execution_count": 24,
      "outputs": [
        {
          "output_type": "execute_result",
          "execution_count": 24,
          "data": {
            "text/html": "<div>\n<style scoped>\n    .dataframe tbody tr th:only-of-type {\n        vertical-align: middle;\n    }\n\n    .dataframe tbody tr th {\n        vertical-align: top;\n    }\n\n    .dataframe thead th {\n        text-align: right;\n    }\n</style>\n<table border=\"1\" class=\"dataframe\">\n  <thead>\n    <tr style=\"text-align: right;\">\n      <th></th>\n      <th>Labels</th>\n      <th>Text</th>\n      <th>Clean_text</th>\n      <th>tocknized</th>\n      <th>text_nonstop</th>\n      <th>text_stem</th>\n      <th>text_lemm</th>\n      <th>body_len</th>\n      <th>punch%</th>\n    </tr>\n  </thead>\n  <tbody>\n    <tr>\n      <th>0</th>\n      <td>ham</td>\n      <td>Go until jurong point, crazy.. Available only ...</td>\n      <td>Go until jurong point crazy Available only in ...</td>\n      <td>[go, until, jurong, point, crazy, available, o...</td>\n      <td>[go, jurong, point, crazy, available, bugis, n...</td>\n      <td>[go, jurong, point, crazi, avail, bugi, n, gre...</td>\n      <td>[go, jurong, point, crazi, avail, bugi, n, gre...</td>\n      <td>92</td>\n      <td>9.8</td>\n    </tr>\n    <tr>\n      <th>1</th>\n      <td>ham</td>\n      <td>Ok lar... Joking wif u oni...</td>\n      <td>Ok lar Joking wif u oni</td>\n      <td>[ok, lar, joking, wif, u, oni]</td>\n      <td>[ok, lar, joking, wif, u, oni]</td>\n      <td>[ok, lar, joke, wif, u, oni]</td>\n      <td>[ok, lar, joke, wif, u, oni]</td>\n      <td>24</td>\n      <td>25.0</td>\n    </tr>\n    <tr>\n      <th>2</th>\n      <td>spam</td>\n      <td>Free entry in 2 a wkly comp to win FA Cup fina...</td>\n      <td>Free entry in 2 a wkly comp to win FA Cup fina...</td>\n      <td>[free, entry, in, 2, a, wkly, comp, to, win, f...</td>\n      <td>[free, entry, 2, wkly, comp, win, fa, cup, fin...</td>\n      <td>[free, entri, 2, wkli, comp, win, fa, cup, fin...</td>\n      <td>[free, entri, 2, wkli, comp, win, fa, cup, fin...</td>\n      <td>128</td>\n      <td>4.7</td>\n    </tr>\n    <tr>\n      <th>3</th>\n      <td>ham</td>\n      <td>U dun say so early hor... U c already then say...</td>\n      <td>U dun say so early hor U c already then say</td>\n      <td>[u, dun, say, so, early, hor, u, c, already, t...</td>\n      <td>[u, dun, say, early, hor, u, c, already, say]</td>\n      <td>[u, dun, say, earli, hor, u, c, alreadi, say]</td>\n      <td>[u, dun, say, earli, hor, u, c, alreadi, say]</td>\n      <td>39</td>\n      <td>15.4</td>\n    </tr>\n    <tr>\n      <th>4</th>\n      <td>ham</td>\n      <td>Nah I don't think he goes to usf, he lives aro...</td>\n      <td>Nah I dont think he goes to usf he lives aroun...</td>\n      <td>[nah, i, dont, think, he, goes, to, usf, he, l...</td>\n      <td>[nah, dont, think, goes, usf, lives, around, t...</td>\n      <td>[nah, dont, think, goe, usf, live, around, tho...</td>\n      <td>[nah, dont, think, goe, usf, live, around, tho...</td>\n      <td>49</td>\n      <td>4.1</td>\n    </tr>\n  </tbody>\n</table>\n</div>",
            "text/plain": "  Labels                                               Text  \\\n0    ham  Go until jurong point, crazy.. Available only ...   \n1    ham                      Ok lar... Joking wif u oni...   \n2   spam  Free entry in 2 a wkly comp to win FA Cup fina...   \n3    ham  U dun say so early hor... U c already then say...   \n4    ham  Nah I don't think he goes to usf, he lives aro...   \n\n                                          Clean_text  \\\n0  Go until jurong point crazy Available only in ...   \n1                            Ok lar Joking wif u oni   \n2  Free entry in 2 a wkly comp to win FA Cup fina...   \n3        U dun say so early hor U c already then say   \n4  Nah I dont think he goes to usf he lives aroun...   \n\n                                           tocknized  \\\n0  [go, until, jurong, point, crazy, available, o...   \n1                     [ok, lar, joking, wif, u, oni]   \n2  [free, entry, in, 2, a, wkly, comp, to, win, f...   \n3  [u, dun, say, so, early, hor, u, c, already, t...   \n4  [nah, i, dont, think, he, goes, to, usf, he, l...   \n\n                                        text_nonstop  \\\n0  [go, jurong, point, crazy, available, bugis, n...   \n1                     [ok, lar, joking, wif, u, oni]   \n2  [free, entry, 2, wkly, comp, win, fa, cup, fin...   \n3      [u, dun, say, early, hor, u, c, already, say]   \n4  [nah, dont, think, goes, usf, lives, around, t...   \n\n                                           text_stem  \\\n0  [go, jurong, point, crazi, avail, bugi, n, gre...   \n1                       [ok, lar, joke, wif, u, oni]   \n2  [free, entri, 2, wkli, comp, win, fa, cup, fin...   \n3      [u, dun, say, earli, hor, u, c, alreadi, say]   \n4  [nah, dont, think, goe, usf, live, around, tho...   \n\n                                           text_lemm  body_len  punch%  \n0  [go, jurong, point, crazi, avail, bugi, n, gre...        92     9.8  \n1                       [ok, lar, joke, wif, u, oni]        24    25.0  \n2  [free, entri, 2, wkli, comp, win, fa, cup, fin...       128     4.7  \n3      [u, dun, say, earli, hor, u, c, alreadi, say]        39    15.4  \n4  [nah, dont, think, goe, usf, live, around, tho...        49     4.1  "
          },
          "metadata": {}
        }
      ]
    },
    {
      "metadata": {
        "trusted": true
      },
      "cell_type": "code",
      "source": "#Plot histogram and compare the two\nbins = np.linspace(0,200,40)",
      "execution_count": 25,
      "outputs": []
    },
    {
      "metadata": {
        "trusted": true
      },
      "cell_type": "code",
      "source": "%pylab inline ",
      "execution_count": 26,
      "outputs": [
        {
          "output_type": "stream",
          "text": "Populating the interactive namespace from numpy and matplotlib\n",
          "name": "stdout"
        }
      ]
    },
    {
      "metadata": {
        "trusted": true
      },
      "cell_type": "code",
      "source": "plt.figure(figsize=(10,5))\nplt.hist(data[data['Labels']=='spam']['body_len'],bins,alpha = 0.5, normed= True, label='spam msg')\nplt.hist(data[data['Labels']=='ham']['body_len'],bins,alpha = 0.5, normed= True, label='ham msg')\nplt.legend(loc='upper right')\nplt.title('Text length')\nplt.show()\n\nplt.figure(figsize=(10,5))\nplt.hist(data[data['Labels']=='spam']['punch%'],bins,alpha = 0.5, normed= True, label='spam msg')\nplt.hist(data[data['Labels']=='ham']['punch%'],bins,alpha = 0.5, normed= True, label='ham msg')\nplt.legend(loc='upper right')\nplt.title('Number of punctuations ')\nplt.show()",
      "execution_count": 27,
      "outputs": [
        {
          "output_type": "stream",
          "text": "/home/nbuser/anaconda3_501/lib/python3.6/site-packages/matplotlib/axes/_axes.py:6499: MatplotlibDeprecationWarning: \nThe 'normed' kwarg was deprecated in Matplotlib 2.1 and will be removed in 3.1. Use 'density' instead.\n  alternative=\"'density'\", removal=\"3.1\")\n/home/nbuser/anaconda3_501/lib/python3.6/site-packages/matplotlib/axes/_axes.py:6499: MatplotlibDeprecationWarning: \nThe 'normed' kwarg was deprecated in Matplotlib 2.1 and will be removed in 3.1. Use 'density' instead.\n  alternative=\"'density'\", removal=\"3.1\")\n",
          "name": "stderr"
        },
        {
          "output_type": "display_data",
          "data": {
            "image/png": "[encoded data removed]",
            "text/plain": "<Figure size 720x360 with 1 Axes>"
          },
          "metadata": {
            "needs_background": "light"
          }
        },
        {
          "output_type": "stream",
          "text": "/home/nbuser/anaconda3_501/lib/python3.6/site-packages/matplotlib/axes/_axes.py:6499: MatplotlibDeprecationWarning: \nThe 'normed' kwarg was deprecated in Matplotlib 2.1 and will be removed in 3.1. Use 'density' instead.\n  alternative=\"'density'\", removal=\"3.1\")\n/home/nbuser/anaconda3_501/lib/python3.6/site-packages/matplotlib/axes/_axes.py:6499: MatplotlibDeprecationWarning: \nThe 'normed' kwarg was deprecated in Matplotlib 2.1 and will be removed in 3.1. Use 'density' instead.\n  alternative=\"'density'\", removal=\"3.1\")\n",
          "name": "stderr"
        },
        {
          "output_type": "display_data",
          "data": {
            "image/png": "[encoded data removed]",
            "text/plain": "<Figure size 720x360 with 1 Axes>"
          },
          "metadata": {
            "needs_background": "light"
          }
        }
      ]
    },
    {
      "metadata": {
        "trusted": true
      },
      "cell_type": "markdown",
      "source": "- Spam has high number of words and punctuations compared to hams. sp this is a good feauture to use."
    },
    {
      "metadata": {},
      "cell_type": "markdown",
      "source": "# Split into train/test "
    },
    {
      "metadata": {
        "trusted": true
      },
      "cell_type": "code",
      "source": "X = data[['Text','body_len', 'punch%']]\ny = data['Labels']\n\nX_train, X_test, y_train, y_test = train_test_split(X,y, test_size = 0.2, random_state= 42)",
      "execution_count": 91,
      "outputs": []
    },
    {
      "metadata": {},
      "cell_type": "markdown",
      "source": "# Vectorize text "
    },
    {
      "metadata": {
        "trusted": true
      },
      "cell_type": "code",
      "source": "#Finally we are vectorizing \n\"\"\"Vectorizing is the process of encoding text as integers in order to create feauture vectors so that ML algorithm \"\"\"\n#reduce the number of commont words (this it, then, is)\ntfidf_vect = TfidfVectorizer(analyzer=remove_punct)",
      "execution_count": 92,
      "outputs": []
    },
    {
      "metadata": {
        "trusted": true
      },
      "cell_type": "code",
      "source": "tfidf_vect_fit = tfidf_vect.fit(X_train['Text'])",
      "execution_count": 93,
      "outputs": []
    },
    {
      "metadata": {
        "trusted": true
      },
      "cell_type": "code",
      "source": "tfidf_train = tfidf_vect_fit.transform(X_train['Text'])\ntfidf_test = tfidf_vect_fit.transform(X_test['Text'])",
      "execution_count": 94,
      "outputs": []
    },
    {
      "metadata": {
        "trusted": true
      },
      "cell_type": "code",
      "source": "X_train_vect = pd.concat([X_train[['body_len', 'punch%']].reset_index(drop=True), \n           pd.DataFrame(tfidf_train.toarray())], axis=1)\nX_test_vect = pd.concat([X_test[['body_len', 'punch%']].reset_index(drop=True), \n           pd.DataFrame(tfidf_test.toarray())], axis=1)\n",
      "execution_count": 95,
      "outputs": []
    },
    {
      "metadata": {
        "trusted": true
      },
      "cell_type": "code",
      "source": "\nX_train_vect.head()",
      "execution_count": 96,
      "outputs": [
        {
          "output_type": "execute_result",
          "execution_count": 96,
          "data": {
            "text/html": "<div>\n<style scoped>\n    .dataframe tbody tr th:only-of-type {\n        vertical-align: middle;\n    }\n\n    .dataframe tbody tr th {\n        vertical-align: top;\n    }\n\n    .dataframe thead th {\n        text-align: right;\n    }\n</style>\n<table border=\"1\" class=\"dataframe\">\n  <thead>\n    <tr style=\"text-align: right;\">\n      <th></th>\n      <th>body_len</th>\n      <th>punch%</th>\n      <th>0</th>\n      <th>1</th>\n      <th>2</th>\n      <th>3</th>\n      <th>4</th>\n      <th>5</th>\n      <th>6</th>\n      <th>7</th>\n      <th>...</th>\n      <th>59</th>\n      <th>60</th>\n      <th>61</th>\n      <th>62</th>\n      <th>63</th>\n      <th>64</th>\n      <th>65</th>\n      <th>66</th>\n      <th>67</th>\n      <th>68</th>\n    </tr>\n  </thead>\n  <tbody>\n    <tr>\n      <th>0</th>\n      <td>65</td>\n      <td>9.2</td>\n      <td>0.0</td>\n      <td>0.684714</td>\n      <td>0.000000</td>\n      <td>0.000000</td>\n      <td>0.000000</td>\n      <td>0.000000</td>\n      <td>0.000000</td>\n      <td>0.000000</td>\n      <td>...</td>\n      <td>0.000000</td>\n      <td>0.000000</td>\n      <td>0.000000</td>\n      <td>0.100321</td>\n      <td>0.0</td>\n      <td>0.0</td>\n      <td>0.0</td>\n      <td>0.0</td>\n      <td>0.0</td>\n      <td>0.0</td>\n    </tr>\n    <tr>\n      <th>1</th>\n      <td>116</td>\n      <td>20.7</td>\n      <td>0.0</td>\n      <td>0.482620</td>\n      <td>0.281039</td>\n      <td>0.000000</td>\n      <td>0.000000</td>\n      <td>0.075535</td>\n      <td>0.000000</td>\n      <td>0.073845</td>\n      <td>...</td>\n      <td>0.000000</td>\n      <td>0.000000</td>\n      <td>0.000000</td>\n      <td>0.060609</td>\n      <td>0.0</td>\n      <td>0.0</td>\n      <td>0.0</td>\n      <td>0.0</td>\n      <td>0.0</td>\n      <td>0.0</td>\n    </tr>\n    <tr>\n      <th>2</th>\n      <td>38</td>\n      <td>2.6</td>\n      <td>0.0</td>\n      <td>0.543011</td>\n      <td>0.000000</td>\n      <td>0.000000</td>\n      <td>0.000000</td>\n      <td>0.000000</td>\n      <td>0.000000</td>\n      <td>0.000000</td>\n      <td>...</td>\n      <td>0.133289</td>\n      <td>0.000000</td>\n      <td>0.000000</td>\n      <td>0.089504</td>\n      <td>0.0</td>\n      <td>0.0</td>\n      <td>0.0</td>\n      <td>0.0</td>\n      <td>0.0</td>\n      <td>0.0</td>\n    </tr>\n    <tr>\n      <th>3</th>\n      <td>38</td>\n      <td>15.8</td>\n      <td>0.0</td>\n      <td>0.594471</td>\n      <td>0.000000</td>\n      <td>0.000000</td>\n      <td>0.000000</td>\n      <td>0.000000</td>\n      <td>0.000000</td>\n      <td>0.000000</td>\n      <td>...</td>\n      <td>0.000000</td>\n      <td>0.000000</td>\n      <td>0.000000</td>\n      <td>0.195972</td>\n      <td>0.0</td>\n      <td>0.0</td>\n      <td>0.0</td>\n      <td>0.0</td>\n      <td>0.0</td>\n      <td>0.0</td>\n    </tr>\n    <tr>\n      <th>4</th>\n      <td>128</td>\n      <td>7.0</td>\n      <td>0.0</td>\n      <td>0.348186</td>\n      <td>0.585456</td>\n      <td>0.158474</td>\n      <td>0.146724</td>\n      <td>0.343318</td>\n      <td>0.216328</td>\n      <td>0.111878</td>\n      <td>...</td>\n      <td>0.000000</td>\n      <td>0.025183</td>\n      <td>0.049324</td>\n      <td>0.000000</td>\n      <td>0.0</td>\n      <td>0.0</td>\n      <td>0.0</td>\n      <td>0.0</td>\n      <td>0.0</td>\n      <td>0.0</td>\n    </tr>\n  </tbody>\n</table>\n<p>5 rows × 71 columns</p>\n</div>",
            "text/plain": "   body_len  punch%    0         1         2         3         4         5  \\\n0        65     9.2  0.0  0.684714  0.000000  0.000000  0.000000  0.000000   \n1       116    20.7  0.0  0.482620  0.281039  0.000000  0.000000  0.075535   \n2        38     2.6  0.0  0.543011  0.000000  0.000000  0.000000  0.000000   \n3        38    15.8  0.0  0.594471  0.000000  0.000000  0.000000  0.000000   \n4       128     7.0  0.0  0.348186  0.585456  0.158474  0.146724  0.343318   \n\n          6         7 ...         59        60        61        62   63   64  \\\n0  0.000000  0.000000 ...   0.000000  0.000000  0.000000  0.100321  0.0  0.0   \n1  0.000000  0.073845 ...   0.000000  0.000000  0.000000  0.060609  0.0  0.0   \n2  0.000000  0.000000 ...   0.133289  0.000000  0.000000  0.089504  0.0  0.0   \n3  0.000000  0.000000 ...   0.000000  0.000000  0.000000  0.195972  0.0  0.0   \n4  0.216328  0.111878 ...   0.000000  0.025183  0.049324  0.000000  0.0  0.0   \n\n    65   66   67   68  \n0  0.0  0.0  0.0  0.0  \n1  0.0  0.0  0.0  0.0  \n2  0.0  0.0  0.0  0.0  \n3  0.0  0.0  0.0  0.0  \n4  0.0  0.0  0.0  0.0  \n\n[5 rows x 71 columns]"
          },
          "metadata": {}
        }
      ]
    },
    {
      "metadata": {},
      "cell_type": "markdown",
      "source": "# Building a simple machine learning classifier. "
    },
    {
      "metadata": {
        "trusted": true
      },
      "cell_type": "code",
      "source": "rf = RandomForestClassifier()",
      "execution_count": 114,
      "outputs": []
    },
    {
      "metadata": {},
      "cell_type": "markdown",
      "source": "# GridSearchCV"
    },
    {
      "metadata": {
        "trusted": true
      },
      "cell_type": "code",
      "source": "param = {'n_estimators': np.arange(10,300,90),'max_depth': np.arange(20,100,40)}\ngridsearch = GridSearchCV(rf, param,cv=10, n_jobs = -1)\nrf_fit = gridsearch.fit (X_train_vect,y_train) \npd.DataFrame(rf_fit.cv_results_).sort_values('mean_test_score', ascending = False).head()",
      "execution_count": 98,
      "outputs": [
        {
          "output_type": "stream",
          "text": "/home/nbuser/anaconda3_501/lib/python3.6/site-packages/sklearn/utils/deprecation.py:122: FutureWarning: You are accessing a training score ('mean_train_score'), which will not be available by default any more in 0.21. If you need training scores, please set return_train_score=True\n  warnings.warn(*warn_args, **warn_kwargs)\n/home/nbuser/anaconda3_501/lib/python3.6/site-packages/sklearn/utils/deprecation.py:122: FutureWarning: You are accessing a training score ('split0_train_score'), which will not be available by default any more in 0.21. If you need training scores, please set return_train_score=True\n  warnings.warn(*warn_args, **warn_kwargs)\n/home/nbuser/anaconda3_501/lib/python3.6/site-packages/sklearn/utils/deprecation.py:122: FutureWarning: You are accessing a training score ('split1_train_score'), which will not be available by default any more in 0.21. If you need training scores, please set return_train_score=True\n  warnings.warn(*warn_args, **warn_kwargs)\n/home/nbuser/anaconda3_501/lib/python3.6/site-packages/sklearn/utils/deprecation.py:122: FutureWarning: You are accessing a training score ('split2_train_score'), which will not be available by default any more in 0.21. If you need training scores, please set return_train_score=True\n  warnings.warn(*warn_args, **warn_kwargs)\n/home/nbuser/anaconda3_501/lib/python3.6/site-packages/sklearn/utils/deprecation.py:122: FutureWarning: You are accessing a training score ('split3_train_score'), which will not be available by default any more in 0.21. If you need training scores, please set return_train_score=True\n  warnings.warn(*warn_args, **warn_kwargs)\n/home/nbuser/anaconda3_501/lib/python3.6/site-packages/sklearn/utils/deprecation.py:122: FutureWarning: You are accessing a training score ('split4_train_score'), which will not be available by default any more in 0.21. If you need training scores, please set return_train_score=True\n  warnings.warn(*warn_args, **warn_kwargs)\n/home/nbuser/anaconda3_501/lib/python3.6/site-packages/sklearn/utils/deprecation.py:122: FutureWarning: You are accessing a training score ('split5_train_score'), which will not be available by default any more in 0.21. If you need training scores, please set return_train_score=True\n  warnings.warn(*warn_args, **warn_kwargs)\n/home/nbuser/anaconda3_501/lib/python3.6/site-packages/sklearn/utils/deprecation.py:122: FutureWarning: You are accessing a training score ('split6_train_score'), which will not be available by default any more in 0.21. If you need training scores, please set return_train_score=True\n  warnings.warn(*warn_args, **warn_kwargs)\n/home/nbuser/anaconda3_501/lib/python3.6/site-packages/sklearn/utils/deprecation.py:122: FutureWarning: You are accessing a training score ('split7_train_score'), which will not be available by default any more in 0.21. If you need training scores, please set return_train_score=True\n  warnings.warn(*warn_args, **warn_kwargs)\n/home/nbuser/anaconda3_501/lib/python3.6/site-packages/sklearn/utils/deprecation.py:122: FutureWarning: You are accessing a training score ('split8_train_score'), which will not be available by default any more in 0.21. If you need training scores, please set return_train_score=True\n  warnings.warn(*warn_args, **warn_kwargs)\n/home/nbuser/anaconda3_501/lib/python3.6/site-packages/sklearn/utils/deprecation.py:122: FutureWarning: You are accessing a training score ('split9_train_score'), which will not be available by default any more in 0.21. If you need training scores, please set return_train_score=True\n  warnings.warn(*warn_args, **warn_kwargs)\n/home/nbuser/anaconda3_501/lib/python3.6/site-packages/sklearn/utils/deprecation.py:122: FutureWarning: You are accessing a training score ('std_train_score'), which will not be available by default any more in 0.21. If you need training scores, please set return_train_score=True\n  warnings.warn(*warn_args, **warn_kwargs)\n",
          "name": "stderr"
        },
        {
          "output_type": "execute_result",
          "execution_count": 98,
          "data": {
            "text/html": "<div>\n<style scoped>\n    .dataframe tbody tr th:only-of-type {\n        vertical-align: middle;\n    }\n\n    .dataframe tbody tr th {\n        vertical-align: top;\n    }\n\n    .dataframe thead th {\n        text-align: right;\n    }\n</style>\n<table border=\"1\" class=\"dataframe\">\n  <thead>\n    <tr style=\"text-align: right;\">\n      <th></th>\n      <th>mean_fit_time</th>\n      <th>mean_score_time</th>\n      <th>mean_test_score</th>\n      <th>mean_train_score</th>\n      <th>param_max_depth</th>\n      <th>param_n_estimators</th>\n      <th>params</th>\n      <th>rank_test_score</th>\n      <th>split0_test_score</th>\n      <th>split0_train_score</th>\n      <th>...</th>\n      <th>split7_test_score</th>\n      <th>split7_train_score</th>\n      <th>split8_test_score</th>\n      <th>split8_train_score</th>\n      <th>split9_test_score</th>\n      <th>split9_train_score</th>\n      <th>std_fit_time</th>\n      <th>std_score_time</th>\n      <th>std_test_score</th>\n      <th>std_train_score</th>\n    </tr>\n  </thead>\n  <tbody>\n    <tr>\n      <th>5</th>\n      <td>2.406548</td>\n      <td>0.037604</td>\n      <td>0.981153</td>\n      <td>0.999975</td>\n      <td>60</td>\n      <td>100</td>\n      <td>{'max_depth': 60, 'n_estimators': 100}</td>\n      <td>1</td>\n      <td>0.982063</td>\n      <td>1.0</td>\n      <td>...</td>\n      <td>0.970787</td>\n      <td>1.0</td>\n      <td>0.997753</td>\n      <td>0.999751</td>\n      <td>0.968539</td>\n      <td>1.0</td>\n      <td>0.168175</td>\n      <td>0.008174</td>\n      <td>0.008355</td>\n      <td>0.000075</td>\n    </tr>\n    <tr>\n      <th>2</th>\n      <td>4.642810</td>\n      <td>0.058186</td>\n      <td>0.980705</td>\n      <td>1.000000</td>\n      <td>20</td>\n      <td>190</td>\n      <td>{'max_depth': 20, 'n_estimators': 190}</td>\n      <td>2</td>\n      <td>0.979821</td>\n      <td>1.0</td>\n      <td>...</td>\n      <td>0.970787</td>\n      <td>1.0</td>\n      <td>0.995506</td>\n      <td>1.000000</td>\n      <td>0.970787</td>\n      <td>1.0</td>\n      <td>0.192434</td>\n      <td>0.012588</td>\n      <td>0.007394</td>\n      <td>0.000000</td>\n    </tr>\n    <tr>\n      <th>3</th>\n      <td>7.103175</td>\n      <td>0.101543</td>\n      <td>0.980256</td>\n      <td>1.000000</td>\n      <td>20</td>\n      <td>280</td>\n      <td>{'max_depth': 20, 'n_estimators': 280}</td>\n      <td>3</td>\n      <td>0.979821</td>\n      <td>1.0</td>\n      <td>...</td>\n      <td>0.970787</td>\n      <td>1.0</td>\n      <td>0.993258</td>\n      <td>1.000000</td>\n      <td>0.964045</td>\n      <td>1.0</td>\n      <td>0.297629</td>\n      <td>0.013075</td>\n      <td>0.008273</td>\n      <td>0.000000</td>\n    </tr>\n    <tr>\n      <th>6</th>\n      <td>4.567489</td>\n      <td>0.065160</td>\n      <td>0.980256</td>\n      <td>1.000000</td>\n      <td>60</td>\n      <td>190</td>\n      <td>{'max_depth': 60, 'n_estimators': 190}</td>\n      <td>3</td>\n      <td>0.979821</td>\n      <td>1.0</td>\n      <td>...</td>\n      <td>0.970787</td>\n      <td>1.0</td>\n      <td>0.997753</td>\n      <td>1.000000</td>\n      <td>0.966292</td>\n      <td>1.0</td>\n      <td>0.184845</td>\n      <td>0.011058</td>\n      <td>0.008628</td>\n      <td>0.000000</td>\n    </tr>\n    <tr>\n      <th>1</th>\n      <td>2.599121</td>\n      <td>0.030883</td>\n      <td>0.980031</td>\n      <td>1.000000</td>\n      <td>20</td>\n      <td>100</td>\n      <td>{'max_depth': 20, 'n_estimators': 100}</td>\n      <td>5</td>\n      <td>0.977578</td>\n      <td>1.0</td>\n      <td>...</td>\n      <td>0.968539</td>\n      <td>1.0</td>\n      <td>0.995506</td>\n      <td>1.000000</td>\n      <td>0.968539</td>\n      <td>1.0</td>\n      <td>0.252818</td>\n      <td>0.008543</td>\n      <td>0.008126</td>\n      <td>0.000000</td>\n    </tr>\n  </tbody>\n</table>\n<p>5 rows × 32 columns</p>\n</div>",
            "text/plain": "   mean_fit_time  mean_score_time  mean_test_score  mean_train_score  \\\n5       2.406548         0.037604         0.981153          0.999975   \n2       4.642810         0.058186         0.980705          1.000000   \n3       7.103175         0.101543         0.980256          1.000000   \n6       4.567489         0.065160         0.980256          1.000000   \n1       2.599121         0.030883         0.980031          1.000000   \n\n  param_max_depth param_n_estimators                                  params  \\\n5              60                100  {'max_depth': 60, 'n_estimators': 100}   \n2              20                190  {'max_depth': 20, 'n_estimators': 190}   \n3              20                280  {'max_depth': 20, 'n_estimators': 280}   \n6              60                190  {'max_depth': 60, 'n_estimators': 190}   \n1              20                100  {'max_depth': 20, 'n_estimators': 100}   \n\n   rank_test_score  split0_test_score  split0_train_score       ...         \\\n5                1           0.982063                 1.0       ...          \n2                2           0.979821                 1.0       ...          \n3                3           0.979821                 1.0       ...          \n6                3           0.979821                 1.0       ...          \n1                5           0.977578                 1.0       ...          \n\n   split7_test_score  split7_train_score  split8_test_score  \\\n5           0.970787                 1.0           0.997753   \n2           0.970787                 1.0           0.995506   \n3           0.970787                 1.0           0.993258   \n6           0.970787                 1.0           0.997753   \n1           0.968539                 1.0           0.995506   \n\n   split8_train_score  split9_test_score  split9_train_score  std_fit_time  \\\n5            0.999751           0.968539                 1.0      0.168175   \n2            1.000000           0.970787                 1.0      0.192434   \n3            1.000000           0.964045                 1.0      0.297629   \n6            1.000000           0.966292                 1.0      0.184845   \n1            1.000000           0.968539                 1.0      0.252818   \n\n   std_score_time  std_test_score  std_train_score  \n5        0.008174        0.008355         0.000075  \n2        0.012588        0.007394         0.000000  \n3        0.013075        0.008273         0.000000  \n6        0.011058        0.008628         0.000000  \n1        0.008543        0.008126         0.000000  \n\n[5 rows x 32 columns]"
          },
          "metadata": {}
        }
      ]
    },
    {
      "metadata": {
        "trusted": true
      },
      "cell_type": "code",
      "source": "rf_fit_pred = rf_fit.predict(X_test_vect)",
      "execution_count": 99,
      "outputs": []
    },
    {
      "metadata": {
        "trusted": true
      },
      "cell_type": "code",
      "source": "print (metrics.classification_report(y_test, rf_fit_pred))\nprint (\"Overall Accuracy:\", round(metrics.accuracy_score(y_test, rf_fit_pred), 3))",
      "execution_count": 159,
      "outputs": [
        {
          "output_type": "stream",
          "text": "             precision    recall  f1-score   support\n\n        ham       0.99      1.00      0.99       965\n       spam       0.99      0.92      0.95       150\n\navg / total       0.99      0.99      0.99      1115\n\nOverall Accuracy: 0.987\n",
          "name": "stdout"
        }
      ]
    },
    {
      "metadata": {
        "trusted": true
      },
      "cell_type": "code",
      "source": "cm = confusion_matrix(y_test, rf_fit_pred)\nclass_label = [\"ham\", \"spam\"]\ndf_cm = pd.DataFrame(cm, index=class_label,columns=class_label)\nsns.heatmap(df_cm, annot=True, fmt='d')\nplt.title(\"Confusion Matrix\")\nplt.xlabel(\"Predicted Label\")\nplt.ylabel(\"True Label\")\nplt.show()",
      "execution_count": 101,
      "outputs": [
        {
          "output_type": "display_data",
          "data": {
            "image/png": "[encoded data removed]",
            "text/plain": "<Figure size 432x288 with 2 Axes>"
          },
          "metadata": {
            "needs_background": "light"
          }
        }
      ]
    },
    {
      "metadata": {},
      "cell_type": "markdown",
      "source": "- Random Forest gives an accuracy of 98.7%. High-value F1-score is also obtained from the model. Confusion Matrix tells us that \n- we correctly predicted 964 hams and 136 spams.1 hams were incorrectly -- identified as spams and 14 spams \n- were incorrectly predicted as hams. Detecting spams as hams are justifiable as compared to hams as spams."
    },
    {
      "metadata": {},
      "cell_type": "markdown",
      "source": "- TP – True positive rate: The number of samples correctly marked as positive\n- FN – False negative rate: The number of samples incorrectly marked as negative (aka type 2 error)\n- FP – False positive rate: The number of samples incorrectly marked as positive (aka type 1 error)\n- TN – True negative rate: The number of samples correctly marked as negative"
    },
    {
      "metadata": {},
      "cell_type": "markdown",
      "source": "- Reference:  https://towardsdatascience.com/natural-language-processing-nlp-for-machine-learning-d44498845d5b\n"
    },
    {
      "metadata": {},
      "cell_type": "markdown",
      "source": "# Exploring better parameters "
    },
    {
      "metadata": {
        "trusted": true
      },
      "cell_type": "code",
      "source": "\nbes_param = rf_fit.best_params_",
      "execution_count": 135,
      "outputs": []
    },
    {
      "metadata": {
        "trusted": true
      },
      "cell_type": "code",
      "source": "bes_param",
      "execution_count": 136,
      "outputs": [
        {
          "output_type": "execute_result",
          "execution_count": 136,
          "data": {
            "text/plain": "{'max_depth': 60, 'n_estimators': 100}"
          },
          "metadata": {}
        }
      ]
    },
    {
      "metadata": {
        "trusted": true
      },
      "cell_type": "code",
      "source": "best_n_estim      = rf_fit.best_params_['n_estimators']\nbest_max_depth = rf_fit.best_params_['max_depth']  \n",
      "execution_count": 137,
      "outputs": []
    },
    {
      "metadata": {
        "trusted": true
      },
      "cell_type": "code",
      "source": "rf2 = RandomForestClassifier(n_estimators=best_n_estim,\n                            max_depth=best_max_depth)",
      "execution_count": 139,
      "outputs": []
    },
    {
      "metadata": {
        "trusted": true
      },
      "cell_type": "code",
      "source": "fit = rf2.fit(X_train_vect,y_train)\n",
      "execution_count": 146,
      "outputs": []
    },
    {
      "metadata": {
        "trusted": true
      },
      "cell_type": "code",
      "source": "pred = fit.predict(X_test_vect)",
      "execution_count": 147,
      "outputs": []
    },
    {
      "metadata": {
        "trusted": true
      },
      "cell_type": "code",
      "source": "print (metrics.classification_report(y_test,pred))\nprint (\"Overall Accuracy:\", round(metrics.accuracy_score(y_test, pred), 3))",
      "execution_count": 160,
      "outputs": [
        {
          "output_type": "stream",
          "text": "             precision    recall  f1-score   support\n\n        ham       0.99      1.00      0.99       965\n       spam       0.99      0.93      0.96       150\n\navg / total       0.99      0.99      0.99      1115\n\nOverall Accuracy: 0.989\n",
          "name": "stdout"
        }
      ]
    },
    {
      "metadata": {
        "trusted": true
      },
      "cell_type": "code",
      "source": "cm = confusion_matrix(y_test, pred)\nclass_label = [\"ham\", \"spam\"]\ndf_cm = pd.DataFrame(cm, index=class_label,columns=class_label)\nsns.heatmap(df_cm, annot=True, fmt='d')\nplt.title(\"Confusion Matrix\")\nplt.xlabel(\"Predicted Label\")\nplt.ylabel(\"True Label\")\nplt.show()",
      "execution_count": 161,
      "outputs": [
        {
          "output_type": "display_data",
          "data": {
            "image/png": "[encoded data removed]",
            "text/plain": "<Figure size 432x288 with 2 Axes>"
          },
          "metadata": {
            "needs_background": "light"
          }
        }
      ]
    },
    {
      "metadata": {
        "trusted": true
      },
      "cell_type": "code",
      "source": "",
      "execution_count": 165,
      "outputs": []
    }
  ],
  "metadata": {
    "kernelspec": {
      "name": "python36",
      "display_name": "Python 3.6",
      "language": "python"
    },
    "language_info": {
      "mimetype": "text/x-python",
      "nbconvert_exporter": "python",
      "name": "python",
      "pygments_lexer": "ipython3",
      "version": "3.6.6",
      "file_extension": ".py",
      "codemirror_mode": {
        "version": 3,
        "name": "ipython"
      }
    }
  },
  "nbformat": 4,
  "nbformat_minor": 2
}